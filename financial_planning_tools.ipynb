{
 "cells": [
  {
   "cell_type": "markdown",
   "metadata": {},
   "source": [
    "# Financial Planning with APIs and Simulations\n",
    "\n",
    "In this Challenge, you’ll create two financial analysis tools by using a single Jupyter notebook:\n",
    "\n",
    "Part 1: A financial planner for emergencies. The members will be able to use this tool to visualize their current savings. The members can then determine if they have enough reserves for an emergency fund.\n",
    "\n",
    "Part 2: A financial planner for retirement. This tool will forecast the performance of their retirement portfolio in 30 years. To do this, the tool will make an Alpaca API call via the Alpaca SDK to get historical price data for use in Monte Carlo simulations.\n",
    "\n",
    "You’ll use the information from the Monte Carlo simulation to answer questions about the portfolio in your Jupyter notebook.\n",
    "\n"
   ]
  },
  {
   "cell_type": "code",
   "execution_count": 43,
   "metadata": {},
   "outputs": [],
   "source": [
    "# Import the required libraries and dependencies\n",
    "import os\n",
    "import requests\n",
    "import json\n",
    "import pandas as pd\n",
    "from dotenv import load_dotenv\n",
    "import alpaca_trade_api as tradeapi\n",
    "from MCForecastTools import MCSimulation\n",
    "from matplotlib import pyplot as plt\n",
    "%matplotlib inline"
   ]
  },
  {
   "cell_type": "code",
   "execution_count": 44,
   "metadata": {},
   "outputs": [
    {
     "data": {
      "text/plain": [
       "True"
      ]
     },
     "execution_count": 44,
     "metadata": {},
     "output_type": "execute_result"
    }
   ],
   "source": [
    "from dotenv import dotenv_values\n",
    "\n",
    "config = dotenv_values(\"env\")\n",
    "load_dotenv()"
   ]
  },
  {
   "cell_type": "code",
   "execution_count": null,
   "metadata": {},
   "outputs": [],
   "source": []
  },
  {
   "cell_type": "markdown",
   "metadata": {},
   "source": [
    "## Part 1: Create a Financial Planner for Emergencies"
   ]
  },
  {
   "cell_type": "markdown",
   "metadata": {},
   "source": [
    "### Evaluate the Cryptocurrency Wallet by Using the Requests Library\n",
    "\n",
    "In this section, you’ll determine the current value of a member’s cryptocurrency wallet. You’ll collect the current prices for the Bitcoin and Ethereum cryptocurrencies by using the Python Requests library. For the prototype, you’ll assume that the member holds the 1.2 Bitcoins (BTC) and 5.3 Ethereum coins (ETH). To do all this, complete the following steps:\n",
    "\n",
    "1. Create a variable named `monthly_income`, and set its value to `12000`.\n",
    "\n",
    "2. Use the Requests library to get the current price (in US dollars) of Bitcoin (BTC) and Ethereum (ETH) by using the API endpoints that the starter code supplies.\n",
    "\n",
    "3. Navigate the JSON response object to access the current price of each coin, and store each in a variable.\n",
    "\n",
    "    > **Hint** Note the specific identifier for each cryptocurrency in the API JSON response. The Bitcoin identifier is `1`, and the Ethereum identifier is `1027`.\n",
    "\n",
    "4. Calculate the value, in US dollars, of the current amount of each cryptocurrency and of the entire cryptocurrency wallet.\n",
    "\n"
   ]
  },
  {
   "cell_type": "code",
   "execution_count": 45,
   "metadata": {},
   "outputs": [],
   "source": [
    "# The current number of coins for each cryptocurrency asset held in the portfolio.\n",
    "btc_coins = 1.2\n",
    "eth_coins = 5.3"
   ]
  },
  {
   "cell_type": "markdown",
   "metadata": {},
   "source": [
    "#### Step 1: Create a variable named `monthly_income`, and set its value to `12000`."
   ]
  },
  {
   "cell_type": "code",
   "execution_count": 46,
   "metadata": {},
   "outputs": [],
   "source": [
    "# The monthly amount for the member's household income\n",
    "# YOUR CODE HERE\n",
    "income_monthly = 12000\n",
    "\n"
   ]
  },
  {
   "cell_type": "markdown",
   "metadata": {},
   "source": [
    "#### Review the endpoint URLs for the API calls to Free Crypto API in order to get the current pricing information for both BTC and ETH."
   ]
  },
  {
   "cell_type": "code",
   "execution_count": 47,
   "metadata": {},
   "outputs": [],
   "source": [
    "# The Free Crypto API Call endpoint URLs for the held cryptocurrency assets\n",
    "btc_url = \"https://api.alternative.me/v2/ticker/Bitcoin/?convert=USD\"\n",
    "eth_url = \"https://api.alternative.me/v2/ticker/Ethereum/?convert=USD\""
   ]
  },
  {
   "cell_type": "markdown",
   "metadata": {},
   "source": [
    "#### Step 2. Use the Requests library to get the current price (in US dollars) of Bitcoin (BTC) and Ethereum (ETH) by using the API endpoints that the starter code supplied."
   ]
  },
  {
   "cell_type": "code",
   "execution_count": 48,
   "metadata": {},
   "outputs": [
    {
     "name": "stdout",
     "output_type": "stream",
     "text": [
      "{\n",
      "    \"data\": {\n",
      "        \"1\": {\n",
      "            \"id\": 1,\n",
      "            \"name\": \"Bitcoin\",\n",
      "            \"symbol\": \"BTC\",\n",
      "            \"website_slug\": \"bitcoin\",\n",
      "            \"rank\": 1,\n",
      "            \"circulating_supply\": 18697850,\n",
      "            \"total_supply\": 18697850,\n",
      "            \"max_supply\": 21000000,\n",
      "            \"quotes\": {\n",
      "                \"USD\": {\n",
      "                    \"price\": 57962.0,\n",
      "                    \"volume_24h\": 40647841958,\n",
      "                    \"market_cap\": 1085273513963,\n",
      "                    \"percentage_change_1h\": 0.302802069630953,\n",
      "                    \"percentage_change_24h\": 1.70708109630607,\n",
      "                    \"percentage_change_7d\": 18.3350609146468,\n",
      "                    \"percent_change_1h\": 0.302802069630953,\n",
      "                    \"percent_change_24h\": 1.70708109630607,\n",
      "                    \"percent_change_7d\": 18.3350609146468\n",
      "                }\n",
      "            },\n",
      "            \"last_updated\": 1620021268\n",
      "        }\n",
      "    },\n",
      "    \"metadata\": {\n",
      "        \"timestamp\": 1620021268,\n",
      "        \"num_cryptocurrencies\": 1307,\n",
      "        \"error\": null\n",
      "    }\n",
      "}\n"
     ]
    }
   ],
   "source": [
    "# Using the Python requests library, make an API call to access the current price of BTC\n",
    "\n",
    "\n",
    "btc_response = requests.get(btc_url).json()\n",
    "\n",
    "# Use the json.dumps function to review the response data from the API call\n",
    "# Use the indent and sort_keys parameters to make the response object readable\n",
    "print(json.dumps(btc_response, indent = 4))\n"
   ]
  },
  {
   "cell_type": "code",
   "execution_count": 49,
   "metadata": {},
   "outputs": [
    {
     "name": "stdout",
     "output_type": "stream",
     "text": [
      "{\n",
      "    \"data\": {\n",
      "        \"1027\": {\n",
      "            \"id\": 1027,\n",
      "            \"name\": \"Ethereum\",\n",
      "            \"symbol\": \"ETH\",\n",
      "            \"website_slug\": \"ethereum\",\n",
      "            \"rank\": 2,\n",
      "            \"circulating_supply\": 115717811,\n",
      "            \"total_supply\": 115717811,\n",
      "            \"max_supply\": 0,\n",
      "            \"quotes\": {\n",
      "                \"USD\": {\n",
      "                    \"price\": 3098.37,\n",
      "                    \"volume_24h\": 39690697149,\n",
      "                    \"market_cap\": 358317471040,\n",
      "                    \"percentage_change_1h\": 1.57139485670002,\n",
      "                    \"percentage_change_24h\": 6.3011977857456,\n",
      "                    \"percentage_change_7d\": 34.282512706175,\n",
      "                    \"percent_change_1h\": 1.57139485670002,\n",
      "                    \"percent_change_24h\": 6.3011977857456,\n",
      "                    \"percent_change_7d\": 34.282512706175\n",
      "                }\n",
      "            },\n",
      "            \"last_updated\": 1620021189\n",
      "        }\n",
      "    },\n",
      "    \"metadata\": {\n",
      "        \"timestamp\": 1620021189,\n",
      "        \"num_cryptocurrencies\": 1307,\n",
      "        \"error\": null\n",
      "    }\n",
      "}\n"
     ]
    }
   ],
   "source": [
    "# Using the Python requests library, make an API call to access the current price ETH\n",
    "eth_response = requests.get(eth_url).json()\n",
    "\n",
    "# Use the json.dumps function to review the response data from the API call\n",
    "# Use the indent and sort_keys parameters to make the response object readable\n",
    "print(json.dumps(eth_response, indent = 4))\n"
   ]
  },
  {
   "cell_type": "markdown",
   "metadata": {},
   "source": [
    "#### Step 3: Navigate the JSON response object to access the current price of each coin, and store each in a variable."
   ]
  },
  {
   "cell_type": "code",
   "execution_count": null,
   "metadata": {},
   "outputs": [],
   "source": []
  },
  {
   "cell_type": "code",
   "execution_count": 50,
   "metadata": {},
   "outputs": [
    {
     "name": "stdout",
     "output_type": "stream",
     "text": [
      "57962.0\n"
     ]
    }
   ],
   "source": [
    "# Navigate the BTC response object to access the current price of BTC\n",
    "\n",
    "btc_price = btc_response['data']['1']['quotes']['USD']['price']\n",
    "# Print the current price of BTC\n",
    "print(btc_price)\n",
    "# YOUR CODE HERE\n"
   ]
  },
  {
   "cell_type": "code",
   "execution_count": 51,
   "metadata": {},
   "outputs": [
    {
     "name": "stdout",
     "output_type": "stream",
     "text": [
      "3098.37\n"
     ]
    }
   ],
   "source": [
    "# Navigate the BTC response object to access the current price of ETH\n",
    "eth_price = eth_response['data']['1027']['quotes']['USD']['price']\n",
    "\n",
    "print(eth_price)\n",
    "\n"
   ]
  },
  {
   "cell_type": "markdown",
   "metadata": {},
   "source": [
    "### Step 4: Calculate the value, in US dollars, of the current amount of each cryptocurrency and of the entire cryptocurrency wallet."
   ]
  },
  {
   "cell_type": "code",
   "execution_count": 52,
   "metadata": {},
   "outputs": [
    {
     "name": "stdout",
     "output_type": "stream",
     "text": [
      "69554.4\n"
     ]
    }
   ],
   "source": [
    "# Compute the current value of the BTC holding \n",
    "btc_value = btc_coins * btc_price\n",
    "\n",
    "# Print current value of your holding in BTC\n",
    "# YOUR CODE HERE\n",
    "print(btc_value)"
   ]
  },
  {
   "cell_type": "code",
   "execution_count": 53,
   "metadata": {},
   "outputs": [
    {
     "name": "stdout",
     "output_type": "stream",
     "text": [
      "16421.360999999997\n"
     ]
    }
   ],
   "source": [
    "# Compute the current value of the ETH holding \n",
    "eth_value = eth_coins * eth_price\n",
    "\n",
    "# Print current value of your holding in ETH\n",
    "# YOUR CODE HERE\n",
    "print(eth_value)"
   ]
  },
  {
   "cell_type": "code",
   "execution_count": 54,
   "metadata": {},
   "outputs": [
    {
     "name": "stdout",
     "output_type": "stream",
     "text": [
      "85975.761\n"
     ]
    }
   ],
   "source": [
    "# Compute the total value of the cryptocurrency wallet\n",
    "# Add the value of the BTC holding to the value of the ETH holding\n",
    "total_crypto_wallet = eth_value + btc_value\n",
    "\n",
    "# Print current cryptocurrency wallet balance\n",
    "# YOUR CODE HERE\n",
    "print(total_crypto_wallet)"
   ]
  },
  {
   "cell_type": "markdown",
   "metadata": {},
   "source": [
    "### Evaluate the Stock and Bond Holdings by Using the Alpaca SDK\n",
    "\n",
    "In this section, you’ll determine the current value of a member’s stock and bond holdings. You’ll make an API call to Alpaca via the Alpaca SDK to get the current closing prices of the SPDR S&P 500 ETF Trust (ticker: SPY) and of the iShares Core US Aggregate Bond ETF (ticker: AGG). For the prototype, assume that the member holds 110 shares of SPY, which represents the stock portion of their portfolio, and 200 shares of AGG, which represents the bond portion. To do all this, complete the following steps:\n",
    "\n",
    "1. In the `Starter_Code` folder, create an environment file (`.env`) to store the values of your Alpaca API key and Alpaca secret key.\n",
    "\n",
    "2. Set the variables for the Alpaca API and secret keys. Using the Alpaca SDK, create the Alpaca `tradeapi.REST` object. In this object, include the parameters for the Alpaca API key, the secret key, and the version number.\n",
    "\n",
    "3. Set the following parameters for the Alpaca API call:\n",
    "\n",
    "    - `tickers`: Use the tickers for the member’s stock and bond holdings.\n",
    "\n",
    "    - `timeframe`: Use a time frame of one day.\n",
    "\n",
    "    - `start_date` and `end_date`: Use the same date for these parameters, and format them with the date of the previous weekday (or `2020-08-07`). This is because you want the one closing price for the most-recent trading day.\n",
    "\n",
    "4. Get the current closing prices for `SPY` and `AGG` by using the Alpaca `get_barset` function. Format the response as a Pandas DataFrame by including the `df` property at the end of the `get_barset` function.\n",
    "\n",
    "5. Navigating the Alpaca response DataFrame, select the `SPY` and `AGG` closing prices, and store them as variables.\n",
    "\n",
    "6. Calculate the value, in US dollars, of the current amount of shares in each of the stock and bond portions of the portfolio, and print the results.\n"
   ]
  },
  {
   "cell_type": "markdown",
   "metadata": {},
   "source": [
    "#### Review the total number of shares held in both (SPY) and (AGG)."
   ]
  },
  {
   "cell_type": "code",
   "execution_count": 55,
   "metadata": {},
   "outputs": [],
   "source": [
    "# Current amount of shares held in both the stock (SPY) and bond (AGG) portion of the portfolio.\n",
    "spy_shares = 110\n",
    "agg_shares = 200\n"
   ]
  },
  {
   "cell_type": "markdown",
   "metadata": {},
   "source": [
    "#### Step 1: In the `Starter_Code` folder, create an environment file (`.env`) to store the values of your Alpaca API key and Alpaca secret key."
   ]
  },
  {
   "cell_type": "markdown",
   "metadata": {},
   "source": [
    "#### Step 2: Set the variables for the Alpaca API and secret keys. Using the Alpaca SDK, create the Alpaca `tradeapi.REST` object. In this object, include the parameters for the Alpaca API key, the secret key, and the version number."
   ]
  },
  {
   "cell_type": "code",
   "execution_count": 56,
   "metadata": {},
   "outputs": [
    {
     "data": {
      "text/plain": [
       "str"
      ]
     },
     "execution_count": 56,
     "metadata": {},
     "output_type": "execute_result"
    }
   ],
   "source": [
    "alpaca_api_key = os.environ.get(\"ALPACA_API_KEY\")\n",
    "type(alpaca_api_key)\n",
    "\n",
    "# print(os.environ)\n"
   ]
  },
  {
   "cell_type": "code",
   "execution_count": null,
   "metadata": {},
   "outputs": [],
   "source": []
  },
  {
   "cell_type": "code",
   "execution_count": 57,
   "metadata": {},
   "outputs": [],
   "source": [
    "# Set the variables for the Alpaca API and secret keys\n",
    "# alpaca_api_key = os.getenv(\"ALPACA_API_KEY\")\n",
    "\n",
    "os.environ['ALPACA_API_KEY'] = 'PK18D8ULTK16OG4EI0H0'\n",
    "os.environ['ALPACA_SECRET_KEY'] = 'ZWfczlmM0ogeTVmNgEoab3xjVbMBjm570gCuCUpX'\n",
    "\n",
    "# alpaca_api_key = os.environ.get(\"ALPACA_API_KEY\")\n",
    "# # alpaca_secret_key = os.getenv(\"ALPACA_SECRET_KEY\")\n",
    "# alpaca_secret_key = os.environ.get(\"ALPACA_SECRET_KEY\")\n",
    "\n",
    "# Check the values were imported correctly by evaluating the type of each\n",
    "# display(type(alpaca_api_key))\n",
    "# display(type(alpaca_secret_key))\n",
    "\n",
    "# Create the Alpaca tradeapi.REST object\n",
    "alpaca = tradeapi.REST(\n",
    "    os.environ.get(\"ALPACA_API_KEY\"),\n",
    "    os.environ.get(\"ALPACA_SECRET_KEY\"),\n",
    "    api_version = \"v2\"\n",
    ")\n"
   ]
  },
  {
   "cell_type": "markdown",
   "metadata": {},
   "source": [
    "#### Step 3: Set the following parameters for the Alpaca API call:\n",
    "\n",
    "- `tickers`: Use the tickers for the member’s stock and bond holdings.\n",
    "\n",
    "- `timeframe`: Use a time frame of one day.\n",
    "\n",
    "- `start_date` and `end_date`: Use the same date for these parameters, and format them with the date of the previous weekday (or `2020-08-07`). This is because you want the one closing price for the most-recent trading day.\n"
   ]
  },
  {
   "cell_type": "code",
   "execution_count": 58,
   "metadata": {},
   "outputs": [],
   "source": [
    "\n",
    "\n",
    "symbols = [\"SPY\", \"AGG\"]\n",
    "\n",
    "# Set timeframe to 1D \n",
    "time_period = \"1D\"\n",
    "\n",
    "# Format current date as ISO format\n",
    "# Set both the start and end date at the date of your prior weekday \n",
    "# This will give you the closing price of the previous trading day\n",
    "# Alternatively you can use a start and end date of 2020-08-07\n",
    "start_date = pd.Timestamp(\"2021-01-29\",tz=\"America/New_York\").isoformat()\n",
    "end_date = pd.Timestamp(\"2021-01-29\",tz=\"America/New_York\").isoformat()"
   ]
  },
  {
   "cell_type": "markdown",
   "metadata": {},
   "source": [
    "#### Step 4: Get the current closing prices for `SPY` and `AGG` by using the Alpaca `get_barset` function. Format the response as a Pandas DataFrame by including the `df` property at the end of the `get_barset` function."
   ]
  },
  {
   "cell_type": "code",
   "execution_count": 59,
   "metadata": {},
   "outputs": [
    {
     "data": {
      "text/html": [
       "<div>\n",
       "<style scoped>\n",
       "    .dataframe tbody tr th:only-of-type {\n",
       "        vertical-align: middle;\n",
       "    }\n",
       "\n",
       "    .dataframe tbody tr th {\n",
       "        vertical-align: top;\n",
       "    }\n",
       "\n",
       "    .dataframe thead tr th {\n",
       "        text-align: left;\n",
       "    }\n",
       "\n",
       "    .dataframe thead tr:last-of-type th {\n",
       "        text-align: right;\n",
       "    }\n",
       "</style>\n",
       "<table border=\"1\" class=\"dataframe\">\n",
       "  <thead>\n",
       "    <tr>\n",
       "      <th></th>\n",
       "      <th colspan=\"5\" halign=\"left\">AGG</th>\n",
       "      <th colspan=\"5\" halign=\"left\">SPY</th>\n",
       "    </tr>\n",
       "    <tr>\n",
       "      <th></th>\n",
       "      <th>open</th>\n",
       "      <th>high</th>\n",
       "      <th>low</th>\n",
       "      <th>close</th>\n",
       "      <th>volume</th>\n",
       "      <th>open</th>\n",
       "      <th>high</th>\n",
       "      <th>low</th>\n",
       "      <th>close</th>\n",
       "      <th>volume</th>\n",
       "    </tr>\n",
       "    <tr>\n",
       "      <th>time</th>\n",
       "      <th></th>\n",
       "      <th></th>\n",
       "      <th></th>\n",
       "      <th></th>\n",
       "      <th></th>\n",
       "      <th></th>\n",
       "      <th></th>\n",
       "      <th></th>\n",
       "      <th></th>\n",
       "      <th></th>\n",
       "    </tr>\n",
       "  </thead>\n",
       "  <tbody>\n",
       "    <tr>\n",
       "      <th>2021-01-29 00:00:00-05:00</th>\n",
       "      <td>117.1563</td>\n",
       "      <td>117.4</td>\n",
       "      <td>116.5625</td>\n",
       "      <td>117.32</td>\n",
       "      <td>7119889</td>\n",
       "      <td>375.63</td>\n",
       "      <td>376.67</td>\n",
       "      <td>368.27</td>\n",
       "      <td>370.19</td>\n",
       "      <td>106397082</td>\n",
       "    </tr>\n",
       "  </tbody>\n",
       "</table>\n",
       "</div>"
      ],
      "text/plain": [
       "                                AGG                                       SPY  \\\n",
       "                               open   high       low   close   volume    open   \n",
       "time                                                                            \n",
       "2021-01-29 00:00:00-05:00  117.1563  117.4  116.5625  117.32  7119889  375.63   \n",
       "\n",
       "                                                              \n",
       "                             high     low   close     volume  \n",
       "time                                                          \n",
       "2021-01-29 00:00:00-05:00  376.67  368.27  370.19  106397082  "
      ]
     },
     "execution_count": 59,
     "metadata": {},
     "output_type": "execute_result"
    }
   ],
   "source": [
    "stock_price = alpaca.get_barset(\n",
    "    symbols,\n",
    "    time_period,\n",
    "    start=start_date,\n",
    "    end=end_date\n",
    ")\n",
    "\n",
    "stock_price_df = stock_price.df\n",
    "stock_price_df.head()\n"
   ]
  },
  {
   "cell_type": "markdown",
   "metadata": {},
   "source": [
    "#### Step 5: Navigating the Alpaca response DataFrame, select the `SPY` and `AGG` closing prices, and store them as variables."
   ]
  },
  {
   "cell_type": "code",
   "execution_count": 60,
   "metadata": {},
   "outputs": [
    {
     "name": "stdout",
     "output_type": "stream",
     "text": [
      "time\n",
      "2021-01-29 00:00:00-05:00    117.32\n",
      "Name: close, dtype: float64\n"
     ]
    }
   ],
   "source": [
    "\n",
    "start_date = pd.Timestamp(\"2021-01-29\", tz=\"America/New_York\").isoformat()\n",
    "end_date = pd.Timestamp(\"2021-01-29\", tz=\"America/New_York\").isoformat()\n",
    "\n",
    "\n",
    "agg_close_price = (stock_price_df[\"AGG\"][\"close\"])\n",
    "\n",
    "# Print the AGG closing price\n",
    "\n",
    "print(agg_close_price)\n"
   ]
  },
  {
   "cell_type": "code",
   "execution_count": 61,
   "metadata": {},
   "outputs": [
    {
     "name": "stdout",
     "output_type": "stream",
     "text": [
      "time\n",
      "2021-01-29 00:00:00-05:00    370.19\n",
      "Name: close, dtype: float64\n"
     ]
    }
   ],
   "source": [
    "\n",
    "\n",
    "spy_close_price = (stock_price_df[\"SPY\"][\"close\"])\n",
    "print(spy_close_price)\n"
   ]
  },
  {
   "cell_type": "markdown",
   "metadata": {},
   "source": [
    "#### Step 6: Calculate the value, in US dollars, of the current amount of shares in each of the stock and bond portions of the portfolio, and print the results."
   ]
  },
  {
   "cell_type": "code",
   "execution_count": 62,
   "metadata": {},
   "outputs": [],
   "source": [
    "# Calculate the current value of the bond portion of the portfolio\n",
    "agg_value = agg_close_price * agg_shares\n",
    "\n",
    "\n",
    "spy_value = spy_close_price * spy_shares\n",
    "\n"
   ]
  },
  {
   "cell_type": "code",
   "execution_count": 63,
   "metadata": {},
   "outputs": [
    {
     "name": "stdout",
     "output_type": "stream",
     "text": [
      "time\n",
      "2021-01-29 00:00:00-05:00    40720.9\n",
      "Name: close, dtype: float64 time\n",
      "2021-01-29 00:00:00-05:00    23464.0\n",
      "Name: close, dtype: float64\n"
     ]
    }
   ],
   "source": [
    "print(spy_value,agg_value)"
   ]
  },
  {
   "cell_type": "code",
   "execution_count": 64,
   "metadata": {},
   "outputs": [
    {
     "name": "stdout",
     "output_type": "stream",
     "text": [
      "64184.9\n"
     ]
    }
   ],
   "source": [
    "\n",
    "# Calculate the total value of the stock and bond portion of the portfolio\n",
    "total_stocks_bonds = float(agg_value + spy_value)\n",
    "\n",
    "print(total_stocks_bonds)"
   ]
  },
  {
   "cell_type": "code",
   "execution_count": null,
   "metadata": {},
   "outputs": [],
   "source": []
  },
  {
   "cell_type": "code",
   "execution_count": 65,
   "metadata": {},
   "outputs": [
    {
     "name": "stdout",
     "output_type": "stream",
     "text": [
      "150160.661\n"
     ]
    }
   ],
   "source": [
    "\n",
    "total_portfolio = total_crypto_wallet + total_stocks_bonds\n",
    "print(total_portfolio)"
   ]
  },
  {
   "cell_type": "markdown",
   "metadata": {},
   "source": [
    "### Evaluate the Emergency Fund\n",
    "\n",
    "In this section, you’ll use the valuations for the cryptocurrency wallet and for the stock and bond portions of the portfolio to determine if the credit union member has enough savings to build an emergency fund into their financial plan. To do this, complete the following steps:\n",
    "\n",
    "1. Create a Python list named `savings_data` that has two elements. The first element contains the total value of the cryptocurrency wallet. The second element contains the total value of the stock and bond portions of the portfolio.\n",
    "\n",
    "2. Use the `savings_data` list to create a Pandas DataFrame named `savings_df`, and then display this DataFrame. The function to create the DataFrame should take the following three parameters:\n",
    "\n",
    "    - `savings_data`: Use the list that you just created.\n",
    "\n",
    "    - `columns`: Set this parameter equal to a Python list with a single value called `amount`.\n",
    "\n",
    "    - `index`: Set this parameter equal to a Python list with the values of `crypto` and `stock/bond`.\n",
    "\n",
    "3. Use the `savings_df` DataFrame to plot a pie chart that visualizes the composition of the member’s portfolio. The y-axis of the pie chart uses `amount`. Be sure to add a title.\n",
    "\n",
    "4. Using Python, determine if the current portfolio has enough to create an emergency fund as part of the member’s financial plan. Ideally, an emergency fund should equal to three times the member’s monthly income. To do this, implement the following steps:\n",
    "\n",
    "    1. Create a variable named `emergency_fund_value`, and set it equal to three times the value of the member’s `monthly_income` of $12000. (You set this earlier in Part 1).\n",
    "\n",
    "    2. Create a series of three if statements to determine if the member’s total portfolio is large enough to fund the emergency portfolio:\n",
    "\n",
    "        1. If the total portfolio value is greater than the emergency fund value, display a message congratulating the member for having enough money in this fund.\n",
    "\n",
    "        2. Else if the total portfolio value is equal to the emergency fund value, display a message congratulating the member on reaching this important financial goal.\n",
    "\n",
    "        3. Else the total portfolio is less than the emergency fund value, so display a message showing how many dollars away the member is from reaching the goal. (Subtract the total portfolio value from the emergency fund value.)\n"
   ]
  },
  {
   "cell_type": "markdown",
   "metadata": {},
   "source": [
    "#### Step 1: Create a Python list named `savings_data` that has two elements. The first element contains the total value of the cryptocurrency wallet. The second element contains the total value of the stock and bond portions of the portfolio."
   ]
  },
  {
   "cell_type": "code",
   "execution_count": 66,
   "metadata": {},
   "outputs": [
    {
     "data": {
      "text/plain": [
       "['crypto', 'stock_bond']"
      ]
     },
     "execution_count": 66,
     "metadata": {},
     "output_type": "execute_result"
    }
   ],
   "source": [
    "\n",
    "savings_data = [\"crypto\", \"stock_bond\"] \n",
    "\n",
    "# Review the Python list savings_data\n",
    "savings_data\n",
    "    "
   ]
  },
  {
   "cell_type": "markdown",
   "metadata": {},
   "source": [
    "#### Step 2: Use the `savings_data` list to create a Pandas DataFrame named `savings_df`, and then display this DataFrame. The function to create the DataFrame should take the following three parameters:\n",
    "\n",
    "- `savings_data`: Use the list that you just created.\n",
    "\n",
    "- `columns`: Set this parameter equal to a Python list with a single value called `amount`.\n",
    "\n",
    "- `index`: Set this parameter equal to a Python list with the values of `crypto` and `stock/bond`.\n"
   ]
  },
  {
   "cell_type": "code",
   "execution_count": 67,
   "metadata": {},
   "outputs": [
    {
     "data": {
      "text/html": [
       "<div>\n",
       "<style scoped>\n",
       "    .dataframe tbody tr th:only-of-type {\n",
       "        vertical-align: middle;\n",
       "    }\n",
       "\n",
       "    .dataframe tbody tr th {\n",
       "        vertical-align: top;\n",
       "    }\n",
       "\n",
       "    .dataframe thead th {\n",
       "        text-align: right;\n",
       "    }\n",
       "</style>\n",
       "<table border=\"1\" class=\"dataframe\">\n",
       "  <thead>\n",
       "    <tr style=\"text-align: right;\">\n",
       "      <th></th>\n",
       "      <th>Amount</th>\n",
       "    </tr>\n",
       "  </thead>\n",
       "  <tbody>\n",
       "    <tr>\n",
       "      <th>crypto</th>\n",
       "      <td>85975.761</td>\n",
       "    </tr>\n",
       "    <tr>\n",
       "      <th>stock_bond</th>\n",
       "      <td>64184.900</td>\n",
       "    </tr>\n",
       "  </tbody>\n",
       "</table>\n",
       "</div>"
      ],
      "text/plain": [
       "               Amount\n",
       "crypto      85975.761\n",
       "stock_bond  64184.900"
      ]
     },
     "execution_count": 67,
     "metadata": {},
     "output_type": "execute_result"
    }
   ],
   "source": [
    "\n",
    "savings_df = pd.DataFrame(\n",
    "    {'Amount':[total_crypto_wallet, total_stocks_bonds]},\n",
    "    index=savings_data\n",
    ")\n",
    "\n",
    "savings_df\n"
   ]
  },
  {
   "cell_type": "markdown",
   "metadata": {},
   "source": [
    "#### Step 3: Use the `savings_df` DataFrame to plot a pie chart that visualizes the composition of the member’s portfolio. The y-axis of the pie chart uses `amount`. Be sure to add a title."
   ]
  },
  {
   "cell_type": "code",
   "execution_count": 68,
   "metadata": {},
   "outputs": [
    {
     "data": {
      "text/plain": [
       "<AxesSubplot:title={'center':'crypto values and stock/bond value'}, ylabel='Amount'>"
      ]
     },
     "execution_count": 68,
     "metadata": {},
     "output_type": "execute_result"
    },
    {
     "data": {
      "image/png": "[encoded data removed]",
      "text/plain": [
       "<Figure size 432x288 with 1 Axes>"
      ]
     },
     "metadata": {},
     "output_type": "display_data"
    }
   ],
   "source": [
    "# Plot the total value of the member's portfolio (crypto and stock/bond) in a pie chart\n",
    "title_str = 'crypto values and stock/bond value'\n",
    "savings_df.plot.pie(y='Amount',title=title_str)\n"
   ]
  },
  {
   "cell_type": "markdown",
   "metadata": {},
   "source": [
    "#### Step 4: Using Python, determine if the current portfolio has enough to create an emergency fund as part of the member’s financial plan. Ideally, an emergency fund should equal to three times the member’s monthly income. To do this, implement the following steps:\n",
    "\n",
    "Step 1. Create a variable named `emergency_fund_value`, and set it equal to three times the value of the member’s `monthly_income` of 12000. (You set this earlier in Part 1).\n",
    "\n",
    "Step 2. Create a series of three if statements to determine if the member’s total portfolio is large enough to fund the emergency portfolio:\n",
    "\n",
    "* If the total portfolio value is greater than the emergency fund value, display a message congratulating the member for having enough money in this fund.\n",
    "\n",
    "* Else if the total portfolio value is equal to the emergency fund value, display a message congratulating the member on reaching this important financial goal.\n",
    "\n",
    "* Else the total portfolio is less than the emergency fund value, so display a message showing how many dollars away the member is from reaching the goal. (Subtract the total portfolio value from the emergency fund value.)\n"
   ]
  },
  {
   "cell_type": "markdown",
   "metadata": {},
   "source": [
    "##### Step 4-1: Create a variable named `emergency_fund_value`, and set it equal to three times the value of the member’s `monthly_income` of 12000. (You set this earlier in Part 1)."
   ]
  },
  {
   "cell_type": "code",
   "execution_count": 69,
   "metadata": {},
   "outputs": [
    {
     "data": {
      "text/plain": [
       "36000"
      ]
     },
     "execution_count": 69,
     "metadata": {},
     "output_type": "execute_result"
    }
   ],
   "source": [
    "reserve_num_month = 3\n",
    "\n",
    "\n",
    "emergency_fund_value = income_monthly * reserve_num_month\n",
    "\n",
    "emergency_fund_value\n"
   ]
  },
  {
   "cell_type": "markdown",
   "metadata": {},
   "source": [
    "##### Step 4-2: Create a series of three if statements to determine if the member’s total portfolio is large enough to fund the emergency portfolio:\n",
    "\n",
    "* If the total portfolio value is greater than the emergency fund value, display a message congratulating the member for having enough money in this fund.\n",
    "\n",
    "* Else if the total portfolio value is equal to the emergency fund value, display a message congratulating the member on reaching this important financial goal.\n",
    "\n",
    "* Else the total portfolio is less than the emergency fund value, so display a message showing how many dollars away the member is from reaching the goal. (Subtract the total portfolio value from the emergency fund value.)"
   ]
  },
  {
   "cell_type": "code",
   "execution_count": 70,
   "metadata": {},
   "outputs": [
    {
     "name": "stdout",
     "output_type": "stream",
     "text": [
      "Congratz, you have reached the goal you set out\n"
     ]
    }
   ],
   "source": [
    "\n",
    "\n",
    "if total_portfolio > emergency_fund_value:\n",
    "    print(\"Congratz, you have reached the goal you set out\")\n",
    "if total_portfolio == emergency_fund_value: \n",
    "    print(\"you have reached the mile stone for emergency fund\")\n",
    "if total_portfolio < emergency_fund_value:\n",
    "    print(\"you still need %s to meet the emergency fund goal\" %(total_portfolio-emergency_fund_value))\n"
   ]
  },
  {
   "cell_type": "markdown",
   "metadata": {},
   "source": [
    "## Part 2: Create a Financial Planner for Retirement"
   ]
  },
  {
   "cell_type": "markdown",
   "metadata": {},
   "source": [
    "### Create the Monte Carlo Simulation\n",
    "\n",
    "In this section, you’ll use the MCForecastTools library to create a Monte Carlo simulation for the member’s savings portfolio. To do this, complete the following steps:\n",
    "\n",
    "1. Make an API call via the Alpaca SDK to get 10 years of historical closing prices for a traditional 60/40 portfolio split: 60% stocks (SPY) and 40% bonds (AGG).\n",
    "\n",
    "2. Run a Monte Carlo simulation of 500 samples and 30 years for the 60/40 portfolio, and then plot the results.The following image shows the overlay line plot resulting from a simulation with these characteristics. However, because a random number generator is used to run each live Monte Carlo simulation, your image will differ slightly from this exact image:\n",
    "\n",
    "![A screenshot depicts the resulting plot.](Images/5-4-monte-carlo-line-plot.png)\n",
    "\n",
    "3. Plot the probability distribution of the Monte Carlo simulation. Plot the probability distribution of the Monte Carlo simulation. The following image shows the histogram plot resulting from a simulation with these characteristics. However, because a random number generator is used to run each live Monte Carlo simulation, your image will differ slightly from this exact image:\n",
    "\n",
    "![A screenshot depicts the histogram plot.](Images/5-4-monte-carlo-histogram.png)\n",
    "\n",
    "4. Generate the summary statistics for the Monte Carlo simulation.\n",
    "\n"
   ]
  },
  {
   "cell_type": "markdown",
   "metadata": {},
   "source": [
    "#### Step 1: Make an API call via the Alpaca SDK to get 10 years of historical closing prices for a traditional 60/40 portfolio split: 60% stocks (SPY) and 40% bonds (AGG)."
   ]
  },
  {
   "cell_type": "code",
   "execution_count": 71,
   "metadata": {},
   "outputs": [],
   "source": [
    "\n",
    "\n",
    "start_date = pd.Timestamp(\"2011-01-29\").isoformat()\n",
    "end_date = pd.Timestamp(\"2021-01-29\").isoformat()\n"
   ]
  },
  {
   "cell_type": "code",
   "execution_count": 72,
   "metadata": {},
   "outputs": [
    {
     "name": "stdout",
     "output_type": "stream",
     "text": [
      "                              AGG                                       \\\n",
      "                             open      high       low   close   volume   \n",
      "time                                                                     \n",
      "2020-12-07 00:00:00-05:00  117.76  117.8262  117.6900  117.75  4689469   \n",
      "2020-12-08 00:00:00-05:00  117.88  117.9597  117.7500  117.77  3587353   \n",
      "2020-12-09 00:00:00-05:00  117.73  117.7800  117.5172  117.62  4720359   \n",
      "2020-12-10 00:00:00-05:00  117.74  117.9300  117.6900  117.88  4694024   \n",
      "2020-12-11 00:00:00-05:00  118.01  118.0900  117.9500  118.03  5537449   \n",
      "\n",
      "                              SPY                                        \n",
      "                             open      high     low     close    volume  \n",
      "time                                                                     \n",
      "2020-12-07 00:00:00-05:00  369.02  369.6200  367.72  369.1200  40456544  \n",
      "2020-12-08 00:00:00-05:00  367.72  370.7800  367.67  370.1599  32702217  \n",
      "2020-12-09 00:00:00-05:00  370.88  371.0500  365.95  366.8900  60700254  \n",
      "2020-12-10 00:00:00-05:00  365.37  367.8600  364.43  366.7200  47851654  \n",
      "2020-12-11 00:00:00-05:00  364.90  366.7402  363.26  366.2800  47917103  \n",
      "                              AGG                                        SPY  \\\n",
      "                             open      high     low   close   volume    open   \n",
      "time                                                                           \n",
      "2021-04-26 00:00:00-04:00  114.74  114.8015  114.65  114.65  2867784  417.44   \n",
      "2021-04-27 00:00:00-04:00  115.13  115.1300  114.37  114.37  3421667  417.91   \n",
      "2021-04-28 00:00:00-04:00  114.45  114.4685  114.20  114.44  6185936  417.81   \n",
      "2021-04-29 00:00:00-04:00  114.14  114.3700  114.09  114.37  5796983  420.33   \n",
      "2021-04-30 00:00:00-04:00  114.41  114.5150  114.33  114.50  5160765  417.63   \n",
      "\n",
      "                                                               \n",
      "                             high       low   close    volume  \n",
      "time                                                           \n",
      "2021-04-26 00:00:00-04:00  418.22  416.8111  417.64  44689009  \n",
      "2021-04-27 00:00:00-04:00  418.14  416.3000  417.48  45962264  \n",
      "2021-04-28 00:00:00-04:00  419.01  416.9000  417.35  45533863  \n",
      "2021-04-29 00:00:00-04:00  420.72  416.4400  419.98  70595229  \n",
      "2021-04-30 00:00:00-04:00  418.54  416.3400  417.30  73129109  \n"
     ]
    }
   ],
   "source": [
    "stock_price_df = alpaca.get_barset(\n",
    "    symbols,\n",
    "    time_period,\n",
    "    start=start_date,\n",
    "    end=end_date\n",
    ").df\n",
    "\n",
    "# Display both the first and last five rows of the DataFrame\n",
    "print(stock_price_df.head())\n",
    "print(stock_price_df.tail())\n"
   ]
  },
  {
   "cell_type": "markdown",
   "metadata": {},
   "source": [
    "#### Step 2: Run a Monte Carlo simulation of 500 samples and 30 years for the 60/40 portfolio, and then plot the results."
   ]
  },
  {
   "cell_type": "code",
   "execution_count": 73,
   "metadata": {},
   "outputs": [
    {
     "data": {
      "text/html": [
       "<div>\n",
       "<style scoped>\n",
       "    .dataframe tbody tr th:only-of-type {\n",
       "        vertical-align: middle;\n",
       "    }\n",
       "\n",
       "    .dataframe tbody tr th {\n",
       "        vertical-align: top;\n",
       "    }\n",
       "\n",
       "    .dataframe thead tr th {\n",
       "        text-align: left;\n",
       "    }\n",
       "\n",
       "    .dataframe thead tr:last-of-type th {\n",
       "        text-align: right;\n",
       "    }\n",
       "</style>\n",
       "<table border=\"1\" class=\"dataframe\">\n",
       "  <thead>\n",
       "    <tr>\n",
       "      <th></th>\n",
       "      <th colspan=\"6\" halign=\"left\">AGG</th>\n",
       "      <th colspan=\"6\" halign=\"left\">SPY</th>\n",
       "    </tr>\n",
       "    <tr>\n",
       "      <th></th>\n",
       "      <th>open</th>\n",
       "      <th>high</th>\n",
       "      <th>low</th>\n",
       "      <th>close</th>\n",
       "      <th>volume</th>\n",
       "      <th>daily_return</th>\n",
       "      <th>open</th>\n",
       "      <th>high</th>\n",
       "      <th>low</th>\n",
       "      <th>close</th>\n",
       "      <th>volume</th>\n",
       "      <th>daily_return</th>\n",
       "    </tr>\n",
       "    <tr>\n",
       "      <th>time</th>\n",
       "      <th></th>\n",
       "      <th></th>\n",
       "      <th></th>\n",
       "      <th></th>\n",
       "      <th></th>\n",
       "      <th></th>\n",
       "      <th></th>\n",
       "      <th></th>\n",
       "      <th></th>\n",
       "      <th></th>\n",
       "      <th></th>\n",
       "      <th></th>\n",
       "    </tr>\n",
       "  </thead>\n",
       "  <tbody>\n",
       "    <tr>\n",
       "      <th>2020-12-07 00:00:00-05:00</th>\n",
       "      <td>117.76</td>\n",
       "      <td>117.8262</td>\n",
       "      <td>117.6900</td>\n",
       "      <td>117.75</td>\n",
       "      <td>4689469</td>\n",
       "      <td>NaN</td>\n",
       "      <td>369.02</td>\n",
       "      <td>369.6200</td>\n",
       "      <td>367.72</td>\n",
       "      <td>369.1200</td>\n",
       "      <td>40456544</td>\n",
       "      <td>NaN</td>\n",
       "    </tr>\n",
       "    <tr>\n",
       "      <th>2020-12-08 00:00:00-05:00</th>\n",
       "      <td>117.88</td>\n",
       "      <td>117.9597</td>\n",
       "      <td>117.7500</td>\n",
       "      <td>117.77</td>\n",
       "      <td>3587353</td>\n",
       "      <td>0.000170</td>\n",
       "      <td>367.72</td>\n",
       "      <td>370.7800</td>\n",
       "      <td>367.67</td>\n",
       "      <td>370.1599</td>\n",
       "      <td>32702217</td>\n",
       "      <td>0.002817</td>\n",
       "    </tr>\n",
       "    <tr>\n",
       "      <th>2020-12-09 00:00:00-05:00</th>\n",
       "      <td>117.73</td>\n",
       "      <td>117.7800</td>\n",
       "      <td>117.5172</td>\n",
       "      <td>117.62</td>\n",
       "      <td>4720359</td>\n",
       "      <td>-0.001274</td>\n",
       "      <td>370.88</td>\n",
       "      <td>371.0500</td>\n",
       "      <td>365.95</td>\n",
       "      <td>366.8900</td>\n",
       "      <td>60700254</td>\n",
       "      <td>-0.008834</td>\n",
       "    </tr>\n",
       "    <tr>\n",
       "      <th>2020-12-10 00:00:00-05:00</th>\n",
       "      <td>117.74</td>\n",
       "      <td>117.9300</td>\n",
       "      <td>117.6900</td>\n",
       "      <td>117.88</td>\n",
       "      <td>4694024</td>\n",
       "      <td>0.002211</td>\n",
       "      <td>365.37</td>\n",
       "      <td>367.8600</td>\n",
       "      <td>364.43</td>\n",
       "      <td>366.7200</td>\n",
       "      <td>47851654</td>\n",
       "      <td>-0.000463</td>\n",
       "    </tr>\n",
       "    <tr>\n",
       "      <th>2020-12-11 00:00:00-05:00</th>\n",
       "      <td>118.01</td>\n",
       "      <td>118.0900</td>\n",
       "      <td>117.9500</td>\n",
       "      <td>118.03</td>\n",
       "      <td>5537449</td>\n",
       "      <td>0.001272</td>\n",
       "      <td>364.90</td>\n",
       "      <td>366.7402</td>\n",
       "      <td>363.26</td>\n",
       "      <td>366.2800</td>\n",
       "      <td>47917103</td>\n",
       "      <td>-0.001200</td>\n",
       "    </tr>\n",
       "  </tbody>\n",
       "</table>\n",
       "</div>"
      ],
      "text/plain": [
       "                              AGG                                       \\\n",
       "                             open      high       low   close   volume   \n",
       "time                                                                     \n",
       "2020-12-07 00:00:00-05:00  117.76  117.8262  117.6900  117.75  4689469   \n",
       "2020-12-08 00:00:00-05:00  117.88  117.9597  117.7500  117.77  3587353   \n",
       "2020-12-09 00:00:00-05:00  117.73  117.7800  117.5172  117.62  4720359   \n",
       "2020-12-10 00:00:00-05:00  117.74  117.9300  117.6900  117.88  4694024   \n",
       "2020-12-11 00:00:00-05:00  118.01  118.0900  117.9500  118.03  5537449   \n",
       "\n",
       "                                           SPY                              \\\n",
       "                          daily_return    open      high     low     close   \n",
       "time                                                                         \n",
       "2020-12-07 00:00:00-05:00          NaN  369.02  369.6200  367.72  369.1200   \n",
       "2020-12-08 00:00:00-05:00     0.000170  367.72  370.7800  367.67  370.1599   \n",
       "2020-12-09 00:00:00-05:00    -0.001274  370.88  371.0500  365.95  366.8900   \n",
       "2020-12-10 00:00:00-05:00     0.002211  365.37  367.8600  364.43  366.7200   \n",
       "2020-12-11 00:00:00-05:00     0.001272  364.90  366.7402  363.26  366.2800   \n",
       "\n",
       "                                                  \n",
       "                             volume daily_return  \n",
       "time                                              \n",
       "2020-12-07 00:00:00-05:00  40456544          NaN  \n",
       "2020-12-08 00:00:00-05:00  32702217     0.002817  \n",
       "2020-12-09 00:00:00-05:00  60700254    -0.008834  \n",
       "2020-12-10 00:00:00-05:00  47851654    -0.000463  \n",
       "2020-12-11 00:00:00-05:00  47917103    -0.001200  "
      ]
     },
     "execution_count": 73,
     "metadata": {},
     "output_type": "execute_result"
    }
   ],
   "source": [
    "simulated_30_years = MCSimulation(\n",
    "    portfolio_data = stock_price_df,\n",
    "    weights = [.60,.40],\n",
    "    num_simulation = 500,\n",
    "    num_trading_days = 252*30\n",
    ")\n",
    "\n",
    "# Review the simulation input data\n",
    "simulated_30_years.portfolio_data.head()\n"
   ]
  },
  {
   "cell_type": "code",
   "execution_count": 74,
   "metadata": {},
   "outputs": [
    {
     "name": "stdout",
     "output_type": "stream",
     "text": [
      "Running Monte Carlo simulation number 0.\n",
      "Running Monte Carlo simulation number 10.\n",
      "Running Monte Carlo simulation number 20.\n",
      "Running Monte Carlo simulation number 30.\n",
      "Running Monte Carlo simulation number 40.\n",
      "Running Monte Carlo simulation number 50.\n",
      "Running Monte Carlo simulation number 60.\n",
      "Running Monte Carlo simulation number 70.\n",
      "Running Monte Carlo simulation number 80.\n",
      "Running Monte Carlo simulation number 90.\n",
      "Running Monte Carlo simulation number 100.\n",
      "Running Monte Carlo simulation number 110.\n",
      "Running Monte Carlo simulation number 120.\n",
      "Running Monte Carlo simulation number 130.\n",
      "Running Monte Carlo simulation number 140.\n",
      "Running Monte Carlo simulation number 150.\n",
      "Running Monte Carlo simulation number 160.\n",
      "Running Monte Carlo simulation number 170.\n",
      "Running Monte Carlo simulation number 180.\n",
      "Running Monte Carlo simulation number 190.\n",
      "Running Monte Carlo simulation number 200.\n",
      "Running Monte Carlo simulation number 210.\n",
      "Running Monte Carlo simulation number 220.\n",
      "Running Monte Carlo simulation number 230.\n",
      "Running Monte Carlo simulation number 240.\n",
      "Running Monte Carlo simulation number 250.\n",
      "Running Monte Carlo simulation number 260.\n",
      "Running Monte Carlo simulation number 270.\n",
      "Running Monte Carlo simulation number 280.\n",
      "Running Monte Carlo simulation number 290.\n",
      "Running Monte Carlo simulation number 300.\n",
      "Running Monte Carlo simulation number 310.\n",
      "Running Monte Carlo simulation number 320.\n",
      "Running Monte Carlo simulation number 330.\n",
      "Running Monte Carlo simulation number 340.\n",
      "Running Monte Carlo simulation number 350.\n",
      "Running Monte Carlo simulation number 360.\n",
      "Running Monte Carlo simulation number 370.\n",
      "Running Monte Carlo simulation number 380.\n",
      "Running Monte Carlo simulation number 390.\n",
      "Running Monte Carlo simulation number 400.\n",
      "Running Monte Carlo simulation number 410.\n",
      "Running Monte Carlo simulation number 420.\n",
      "Running Monte Carlo simulation number 430.\n",
      "Running Monte Carlo simulation number 440.\n",
      "Running Monte Carlo simulation number 450.\n",
      "Running Monte Carlo simulation number 460.\n",
      "Running Monte Carlo simulation number 470.\n",
      "Running Monte Carlo simulation number 480.\n",
      "Running Monte Carlo simulation number 490.\n"
     ]
    },
    {
     "data": {
      "text/html": [
       "<div>\n",
       "<style scoped>\n",
       "    .dataframe tbody tr th:only-of-type {\n",
       "        vertical-align: middle;\n",
       "    }\n",
       "\n",
       "    .dataframe tbody tr th {\n",
       "        vertical-align: top;\n",
       "    }\n",
       "\n",
       "    .dataframe thead th {\n",
       "        text-align: right;\n",
       "    }\n",
       "</style>\n",
       "<table border=\"1\" class=\"dataframe\">\n",
       "  <thead>\n",
       "    <tr style=\"text-align: right;\">\n",
       "      <th></th>\n",
       "      <th>0</th>\n",
       "      <th>1</th>\n",
       "      <th>2</th>\n",
       "      <th>3</th>\n",
       "      <th>4</th>\n",
       "      <th>5</th>\n",
       "      <th>6</th>\n",
       "      <th>7</th>\n",
       "      <th>8</th>\n",
       "      <th>9</th>\n",
       "      <th>...</th>\n",
       "      <th>490</th>\n",
       "      <th>491</th>\n",
       "      <th>492</th>\n",
       "      <th>493</th>\n",
       "      <th>494</th>\n",
       "      <th>495</th>\n",
       "      <th>496</th>\n",
       "      <th>497</th>\n",
       "      <th>498</th>\n",
       "      <th>499</th>\n",
       "    </tr>\n",
       "  </thead>\n",
       "  <tbody>\n",
       "    <tr>\n",
       "      <th>0</th>\n",
       "      <td>1.000000</td>\n",
       "      <td>1.000000</td>\n",
       "      <td>1.000000</td>\n",
       "      <td>1.000000</td>\n",
       "      <td>1.000000</td>\n",
       "      <td>1.000000</td>\n",
       "      <td>1.000000</td>\n",
       "      <td>1.000000</td>\n",
       "      <td>1.000000</td>\n",
       "      <td>1.000000</td>\n",
       "      <td>...</td>\n",
       "      <td>1.000000</td>\n",
       "      <td>1.000000</td>\n",
       "      <td>1.000000</td>\n",
       "      <td>1.000000</td>\n",
       "      <td>1.000000</td>\n",
       "      <td>1.000000</td>\n",
       "      <td>1.000000</td>\n",
       "      <td>1.000000</td>\n",
       "      <td>1.000000</td>\n",
       "      <td>1.000000</td>\n",
       "    </tr>\n",
       "    <tr>\n",
       "      <th>1</th>\n",
       "      <td>1.005484</td>\n",
       "      <td>1.003665</td>\n",
       "      <td>1.000769</td>\n",
       "      <td>0.993337</td>\n",
       "      <td>0.997749</td>\n",
       "      <td>0.999916</td>\n",
       "      <td>1.008602</td>\n",
       "      <td>0.998607</td>\n",
       "      <td>0.997734</td>\n",
       "      <td>0.998650</td>\n",
       "      <td>...</td>\n",
       "      <td>1.000402</td>\n",
       "      <td>0.996976</td>\n",
       "      <td>1.001298</td>\n",
       "      <td>1.000398</td>\n",
       "      <td>1.005985</td>\n",
       "      <td>1.003006</td>\n",
       "      <td>0.992648</td>\n",
       "      <td>0.998087</td>\n",
       "      <td>0.996412</td>\n",
       "      <td>0.999883</td>\n",
       "    </tr>\n",
       "    <tr>\n",
       "      <th>2</th>\n",
       "      <td>1.003667</td>\n",
       "      <td>1.007819</td>\n",
       "      <td>0.999225</td>\n",
       "      <td>0.999529</td>\n",
       "      <td>1.002421</td>\n",
       "      <td>1.000081</td>\n",
       "      <td>1.005657</td>\n",
       "      <td>0.999303</td>\n",
       "      <td>0.994163</td>\n",
       "      <td>0.995429</td>\n",
       "      <td>...</td>\n",
       "      <td>0.996443</td>\n",
       "      <td>0.992139</td>\n",
       "      <td>0.997492</td>\n",
       "      <td>1.006592</td>\n",
       "      <td>1.007562</td>\n",
       "      <td>1.001325</td>\n",
       "      <td>0.992372</td>\n",
       "      <td>0.997186</td>\n",
       "      <td>0.996088</td>\n",
       "      <td>1.001356</td>\n",
       "    </tr>\n",
       "    <tr>\n",
       "      <th>3</th>\n",
       "      <td>1.002251</td>\n",
       "      <td>1.013455</td>\n",
       "      <td>0.999764</td>\n",
       "      <td>0.998972</td>\n",
       "      <td>1.000920</td>\n",
       "      <td>0.997724</td>\n",
       "      <td>1.003124</td>\n",
       "      <td>1.005769</td>\n",
       "      <td>0.995216</td>\n",
       "      <td>0.998894</td>\n",
       "      <td>...</td>\n",
       "      <td>0.992829</td>\n",
       "      <td>0.999902</td>\n",
       "      <td>0.995630</td>\n",
       "      <td>1.004471</td>\n",
       "      <td>1.001543</td>\n",
       "      <td>0.997014</td>\n",
       "      <td>0.997964</td>\n",
       "      <td>1.001687</td>\n",
       "      <td>1.000235</td>\n",
       "      <td>1.005498</td>\n",
       "    </tr>\n",
       "    <tr>\n",
       "      <th>4</th>\n",
       "      <td>0.997395</td>\n",
       "      <td>1.009277</td>\n",
       "      <td>0.996925</td>\n",
       "      <td>0.997823</td>\n",
       "      <td>0.995323</td>\n",
       "      <td>0.999380</td>\n",
       "      <td>1.009117</td>\n",
       "      <td>1.003669</td>\n",
       "      <td>1.002611</td>\n",
       "      <td>1.001596</td>\n",
       "      <td>...</td>\n",
       "      <td>0.997737</td>\n",
       "      <td>1.000355</td>\n",
       "      <td>0.996266</td>\n",
       "      <td>1.002647</td>\n",
       "      <td>1.004268</td>\n",
       "      <td>0.998053</td>\n",
       "      <td>1.003808</td>\n",
       "      <td>1.002384</td>\n",
       "      <td>0.999816</td>\n",
       "      <td>1.010036</td>\n",
       "    </tr>\n",
       "    <tr>\n",
       "      <th>...</th>\n",
       "      <td>...</td>\n",
       "      <td>...</td>\n",
       "      <td>...</td>\n",
       "      <td>...</td>\n",
       "      <td>...</td>\n",
       "      <td>...</td>\n",
       "      <td>...</td>\n",
       "      <td>...</td>\n",
       "      <td>...</td>\n",
       "      <td>...</td>\n",
       "      <td>...</td>\n",
       "      <td>...</td>\n",
       "      <td>...</td>\n",
       "      <td>...</td>\n",
       "      <td>...</td>\n",
       "      <td>...</td>\n",
       "      <td>...</td>\n",
       "      <td>...</td>\n",
       "      <td>...</td>\n",
       "      <td>...</td>\n",
       "      <td>...</td>\n",
       "    </tr>\n",
       "    <tr>\n",
       "      <th>7556</th>\n",
       "      <td>10.435603</td>\n",
       "      <td>8.737572</td>\n",
       "      <td>13.788273</td>\n",
       "      <td>9.230390</td>\n",
       "      <td>17.843630</td>\n",
       "      <td>11.176573</td>\n",
       "      <td>14.269609</td>\n",
       "      <td>14.593326</td>\n",
       "      <td>17.731155</td>\n",
       "      <td>14.952377</td>\n",
       "      <td>...</td>\n",
       "      <td>11.300580</td>\n",
       "      <td>15.340108</td>\n",
       "      <td>10.979079</td>\n",
       "      <td>15.833842</td>\n",
       "      <td>11.871314</td>\n",
       "      <td>4.801444</td>\n",
       "      <td>13.180346</td>\n",
       "      <td>13.361785</td>\n",
       "      <td>18.134698</td>\n",
       "      <td>9.361190</td>\n",
       "    </tr>\n",
       "    <tr>\n",
       "      <th>7557</th>\n",
       "      <td>10.470599</td>\n",
       "      <td>8.714549</td>\n",
       "      <td>13.763159</td>\n",
       "      <td>9.275538</td>\n",
       "      <td>17.915721</td>\n",
       "      <td>11.218674</td>\n",
       "      <td>14.372735</td>\n",
       "      <td>14.668107</td>\n",
       "      <td>17.818150</td>\n",
       "      <td>14.968258</td>\n",
       "      <td>...</td>\n",
       "      <td>11.263719</td>\n",
       "      <td>15.408944</td>\n",
       "      <td>11.012361</td>\n",
       "      <td>15.849273</td>\n",
       "      <td>11.834710</td>\n",
       "      <td>4.789555</td>\n",
       "      <td>13.186631</td>\n",
       "      <td>13.324492</td>\n",
       "      <td>18.227925</td>\n",
       "      <td>9.351785</td>\n",
       "    </tr>\n",
       "    <tr>\n",
       "      <th>7558</th>\n",
       "      <td>10.413443</td>\n",
       "      <td>8.796568</td>\n",
       "      <td>13.847242</td>\n",
       "      <td>9.314578</td>\n",
       "      <td>17.911909</td>\n",
       "      <td>11.192638</td>\n",
       "      <td>14.353774</td>\n",
       "      <td>14.696878</td>\n",
       "      <td>17.827337</td>\n",
       "      <td>15.012137</td>\n",
       "      <td>...</td>\n",
       "      <td>11.250876</td>\n",
       "      <td>15.417464</td>\n",
       "      <td>10.988450</td>\n",
       "      <td>15.870109</td>\n",
       "      <td>11.802489</td>\n",
       "      <td>4.723214</td>\n",
       "      <td>13.253835</td>\n",
       "      <td>13.370776</td>\n",
       "      <td>18.292557</td>\n",
       "      <td>9.358124</td>\n",
       "    </tr>\n",
       "    <tr>\n",
       "      <th>7559</th>\n",
       "      <td>10.408010</td>\n",
       "      <td>8.830271</td>\n",
       "      <td>13.799928</td>\n",
       "      <td>9.316927</td>\n",
       "      <td>17.971442</td>\n",
       "      <td>11.206521</td>\n",
       "      <td>14.358296</td>\n",
       "      <td>14.615197</td>\n",
       "      <td>17.833294</td>\n",
       "      <td>15.073585</td>\n",
       "      <td>...</td>\n",
       "      <td>11.207104</td>\n",
       "      <td>15.325027</td>\n",
       "      <td>10.990993</td>\n",
       "      <td>15.886756</td>\n",
       "      <td>11.910040</td>\n",
       "      <td>4.717172</td>\n",
       "      <td>13.265745</td>\n",
       "      <td>13.324502</td>\n",
       "      <td>18.343157</td>\n",
       "      <td>9.392906</td>\n",
       "    </tr>\n",
       "    <tr>\n",
       "      <th>7560</th>\n",
       "      <td>10.415245</td>\n",
       "      <td>8.840299</td>\n",
       "      <td>13.979395</td>\n",
       "      <td>9.279163</td>\n",
       "      <td>18.011469</td>\n",
       "      <td>11.214956</td>\n",
       "      <td>14.348768</td>\n",
       "      <td>14.625986</td>\n",
       "      <td>17.872295</td>\n",
       "      <td>15.096459</td>\n",
       "      <td>...</td>\n",
       "      <td>11.250689</td>\n",
       "      <td>15.201837</td>\n",
       "      <td>10.990171</td>\n",
       "      <td>15.900774</td>\n",
       "      <td>11.988456</td>\n",
       "      <td>4.703588</td>\n",
       "      <td>13.337550</td>\n",
       "      <td>13.247883</td>\n",
       "      <td>18.336047</td>\n",
       "      <td>9.390088</td>\n",
       "    </tr>\n",
       "  </tbody>\n",
       "</table>\n",
       "<p>7561 rows × 500 columns</p>\n",
       "</div>"
      ],
      "text/plain": [
       "            0         1          2         3          4          5    \\\n",
       "0      1.000000  1.000000   1.000000  1.000000   1.000000   1.000000   \n",
       "1      1.005484  1.003665   1.000769  0.993337   0.997749   0.999916   \n",
       "2      1.003667  1.007819   0.999225  0.999529   1.002421   1.000081   \n",
       "3      1.002251  1.013455   0.999764  0.998972   1.000920   0.997724   \n",
       "4      0.997395  1.009277   0.996925  0.997823   0.995323   0.999380   \n",
       "...         ...       ...        ...       ...        ...        ...   \n",
       "7556  10.435603  8.737572  13.788273  9.230390  17.843630  11.176573   \n",
       "7557  10.470599  8.714549  13.763159  9.275538  17.915721  11.218674   \n",
       "7558  10.413443  8.796568  13.847242  9.314578  17.911909  11.192638   \n",
       "7559  10.408010  8.830271  13.799928  9.316927  17.971442  11.206521   \n",
       "7560  10.415245  8.840299  13.979395  9.279163  18.011469  11.214956   \n",
       "\n",
       "            6          7          8          9    ...        490        491  \\\n",
       "0      1.000000   1.000000   1.000000   1.000000  ...   1.000000   1.000000   \n",
       "1      1.008602   0.998607   0.997734   0.998650  ...   1.000402   0.996976   \n",
       "2      1.005657   0.999303   0.994163   0.995429  ...   0.996443   0.992139   \n",
       "3      1.003124   1.005769   0.995216   0.998894  ...   0.992829   0.999902   \n",
       "4      1.009117   1.003669   1.002611   1.001596  ...   0.997737   1.000355   \n",
       "...         ...        ...        ...        ...  ...        ...        ...   \n",
       "7556  14.269609  14.593326  17.731155  14.952377  ...  11.300580  15.340108   \n",
       "7557  14.372735  14.668107  17.818150  14.968258  ...  11.263719  15.408944   \n",
       "7558  14.353774  14.696878  17.827337  15.012137  ...  11.250876  15.417464   \n",
       "7559  14.358296  14.615197  17.833294  15.073585  ...  11.207104  15.325027   \n",
       "7560  14.348768  14.625986  17.872295  15.096459  ...  11.250689  15.201837   \n",
       "\n",
       "            492        493        494       495        496        497  \\\n",
       "0      1.000000   1.000000   1.000000  1.000000   1.000000   1.000000   \n",
       "1      1.001298   1.000398   1.005985  1.003006   0.992648   0.998087   \n",
       "2      0.997492   1.006592   1.007562  1.001325   0.992372   0.997186   \n",
       "3      0.995630   1.004471   1.001543  0.997014   0.997964   1.001687   \n",
       "4      0.996266   1.002647   1.004268  0.998053   1.003808   1.002384   \n",
       "...         ...        ...        ...       ...        ...        ...   \n",
       "7556  10.979079  15.833842  11.871314  4.801444  13.180346  13.361785   \n",
       "7557  11.012361  15.849273  11.834710  4.789555  13.186631  13.324492   \n",
       "7558  10.988450  15.870109  11.802489  4.723214  13.253835  13.370776   \n",
       "7559  10.990993  15.886756  11.910040  4.717172  13.265745  13.324502   \n",
       "7560  10.990171  15.900774  11.988456  4.703588  13.337550  13.247883   \n",
       "\n",
       "            498       499  \n",
       "0      1.000000  1.000000  \n",
       "1      0.996412  0.999883  \n",
       "2      0.996088  1.001356  \n",
       "3      1.000235  1.005498  \n",
       "4      0.999816  1.010036  \n",
       "...         ...       ...  \n",
       "7556  18.134698  9.361190  \n",
       "7557  18.227925  9.351785  \n",
       "7558  18.292557  9.358124  \n",
       "7559  18.343157  9.392906  \n",
       "7560  18.336047  9.390088  \n",
       "\n",
       "[7561 rows x 500 columns]"
      ]
     },
     "execution_count": 74,
     "metadata": {},
     "output_type": "execute_result"
    }
   ],
   "source": [
    "simulated_30_years.calc_cumulative_return()\n",
    "\n"
   ]
  },
  {
   "cell_type": "code",
   "execution_count": 75,
   "metadata": {},
   "outputs": [
    {
     "data": {
      "image/png": "[encoded data removed]",
      "text/plain": [
       "<Figure size 432x288 with 1 Axes>"
      ]
     },
     "metadata": {
      "needs_background": "light"
     },
     "output_type": "display_data"
    }
   ],
   "source": [
    "\n",
    "return_plot = simulated_30_years.plot_simulation()\n",
    "return_plot.get_figure().savefig(\"simulated_return_plot.png\")\n",
    "plt.tight_layout()\n"
   ]
  },
  {
   "cell_type": "markdown",
   "metadata": {},
   "source": [
    "#### Step 3: Plot the probability distribution of the Monte Carlo simulation."
   ]
  },
  {
   "cell_type": "code",
   "execution_count": 76,
   "metadata": {},
   "outputs": [
    {
     "data": {
      "image/png": "[encoded data removed]",
      "text/plain": [
       "<Figure size 432x288 with 1 Axes>"
      ]
     },
     "metadata": {
      "needs_background": "light"
     },
     "output_type": "display_data"
    }
   ],
   "source": [
    "\n",
    "return_distribution_plot = simulated_30_years.plot_distribution()\n",
    "return_distribution_plot.get_figure().savefig('histogram_of_return_distribution.png')\n",
    "plt.tight_layout()\n"
   ]
  },
  {
   "cell_type": "markdown",
   "metadata": {},
   "source": [
    "#### Step 4: Generate the summary statistics for the Monte Carlo simulation."
   ]
  },
  {
   "cell_type": "code",
   "execution_count": 77,
   "metadata": {},
   "outputs": [
    {
     "name": "stdout",
     "output_type": "stream",
     "text": [
      "count           500.000000\n",
      "mean             13.359980\n",
      "std               4.539173\n",
      "min               4.109850\n",
      "25%              10.249965\n",
      "50%              12.712260\n",
      "75%              15.538592\n",
      "max              35.032334\n",
      "95% CI Lower      6.840850\n",
      "95% CI Upper     24.625251\n",
      "Name: 7560, dtype: float64\n"
     ]
    }
   ],
   "source": [
    "\n",
    "return_summary_table = simulated_30_years.summarize_cumulative_return()\n",
    "\n",
    "print(return_summary_table)\n",
    "\n"
   ]
  },
  {
   "cell_type": "markdown",
   "metadata": {},
   "source": [
    "### Analyze the Retirement Portfolio Forecasts\n",
    "\n",
    "Using the current value of only the stock and bond portion of the member's portfolio and the summary statistics that you generated from the Monte Carlo simulation, answer the following question in your Jupyter notebook:\n",
    "\n",
    "-  What are the lower and upper bounds for the expected value of the portfolio with a 95% confidence interval?\n"
   ]
  },
  {
   "cell_type": "code",
   "execution_count": 78,
   "metadata": {},
   "outputs": [],
   "source": [
    "# Print the current balance of the stock and bond portion of the members portfolio\n",
    "# YOUR CODE HERE\n"
   ]
  },
  {
   "cell_type": "code",
   "execution_count": 79,
   "metadata": {},
   "outputs": [],
   "source": [
    "\n",
    "\n",
    "ci_lower_thirty_cumulative_return = return_summary_table[8] * total_stocks_bonds\n",
    "ci_upper_thirty_cumulative_return = return_summary_table[9] * total_stocks_bonds\n",
    "\n"
   ]
  },
  {
   "cell_type": "markdown",
   "metadata": {},
   "source": [
    "### Forecast Cumulative Returns in 10 Years\n",
    "\n",
    "The CTO of the credit union is impressed with your work on these planning tools but wonders if 30 years is a long time to wait until retirement. So, your next task is to adjust the retirement portfolio and run a new Monte Carlo simulation to find out if the changes will allow members to retire earlier.\n",
    "\n",
    "For this new Monte Carlo simulation, do the following: \n",
    "\n",
    "- Forecast the cumulative returns for 10 years from now. Because of the shortened investment horizon (30 years to 10 years), the portfolio needs to invest more heavily in the riskier asset&mdash;that is, stock&mdash;to help accumulate wealth for retirement. \n",
    "\n",
    "- Adjust the weights of the retirement portfolio so that the composition for the Monte Carlo simulation consists of 20% bonds and 80% stocks. \n",
    "\n",
    "- Run the simulation over 500 samples, and use the same data that the API call to Alpaca generated.\n",
    "\n",
    "- Based on the new Monte Carlo simulation, answer the following questions in your Jupyter notebook:\n",
    "\n",
    "    - Using the current value of only the stock and bond portion of the member's portfolio and the summary statistics that you generated from the new Monte Carlo simulation, what are the lower and upper bounds for the expected value of the portfolio (with the new weights) with a 95% confidence interval?\n",
    "\n",
    "    - Will weighting the portfolio more heavily toward stocks allow the credit union members to retire after only 10 years?\n"
   ]
  },
  {
   "cell_type": "code",
   "execution_count": 84,
   "metadata": {},
   "outputs": [
    {
     "data": {
      "text/html": [
       "<div>\n",
       "<style scoped>\n",
       "    .dataframe tbody tr th:only-of-type {\n",
       "        vertical-align: middle;\n",
       "    }\n",
       "\n",
       "    .dataframe tbody tr th {\n",
       "        vertical-align: top;\n",
       "    }\n",
       "\n",
       "    .dataframe thead tr th {\n",
       "        text-align: left;\n",
       "    }\n",
       "\n",
       "    .dataframe thead tr:last-of-type th {\n",
       "        text-align: right;\n",
       "    }\n",
       "</style>\n",
       "<table border=\"1\" class=\"dataframe\">\n",
       "  <thead>\n",
       "    <tr>\n",
       "      <th></th>\n",
       "      <th colspan=\"6\" halign=\"left\">AGG</th>\n",
       "      <th colspan=\"6\" halign=\"left\">SPY</th>\n",
       "    </tr>\n",
       "    <tr>\n",
       "      <th></th>\n",
       "      <th>open</th>\n",
       "      <th>high</th>\n",
       "      <th>low</th>\n",
       "      <th>close</th>\n",
       "      <th>volume</th>\n",
       "      <th>daily_return</th>\n",
       "      <th>open</th>\n",
       "      <th>high</th>\n",
       "      <th>low</th>\n",
       "      <th>close</th>\n",
       "      <th>volume</th>\n",
       "      <th>daily_return</th>\n",
       "    </tr>\n",
       "    <tr>\n",
       "      <th>time</th>\n",
       "      <th></th>\n",
       "      <th></th>\n",
       "      <th></th>\n",
       "      <th></th>\n",
       "      <th></th>\n",
       "      <th></th>\n",
       "      <th></th>\n",
       "      <th></th>\n",
       "      <th></th>\n",
       "      <th></th>\n",
       "      <th></th>\n",
       "      <th></th>\n",
       "    </tr>\n",
       "  </thead>\n",
       "  <tbody>\n",
       "    <tr>\n",
       "      <th>2020-12-07 00:00:00-05:00</th>\n",
       "      <td>117.76</td>\n",
       "      <td>117.8262</td>\n",
       "      <td>117.6900</td>\n",
       "      <td>117.75</td>\n",
       "      <td>4689469</td>\n",
       "      <td>NaN</td>\n",
       "      <td>369.02</td>\n",
       "      <td>369.6200</td>\n",
       "      <td>367.72</td>\n",
       "      <td>369.1200</td>\n",
       "      <td>40456544</td>\n",
       "      <td>NaN</td>\n",
       "    </tr>\n",
       "    <tr>\n",
       "      <th>2020-12-08 00:00:00-05:00</th>\n",
       "      <td>117.88</td>\n",
       "      <td>117.9597</td>\n",
       "      <td>117.7500</td>\n",
       "      <td>117.77</td>\n",
       "      <td>3587353</td>\n",
       "      <td>0.000170</td>\n",
       "      <td>367.72</td>\n",
       "      <td>370.7800</td>\n",
       "      <td>367.67</td>\n",
       "      <td>370.1599</td>\n",
       "      <td>32702217</td>\n",
       "      <td>0.002817</td>\n",
       "    </tr>\n",
       "    <tr>\n",
       "      <th>2020-12-09 00:00:00-05:00</th>\n",
       "      <td>117.73</td>\n",
       "      <td>117.7800</td>\n",
       "      <td>117.5172</td>\n",
       "      <td>117.62</td>\n",
       "      <td>4720359</td>\n",
       "      <td>-0.001274</td>\n",
       "      <td>370.88</td>\n",
       "      <td>371.0500</td>\n",
       "      <td>365.95</td>\n",
       "      <td>366.8900</td>\n",
       "      <td>60700254</td>\n",
       "      <td>-0.008834</td>\n",
       "    </tr>\n",
       "    <tr>\n",
       "      <th>2020-12-10 00:00:00-05:00</th>\n",
       "      <td>117.74</td>\n",
       "      <td>117.9300</td>\n",
       "      <td>117.6900</td>\n",
       "      <td>117.88</td>\n",
       "      <td>4694024</td>\n",
       "      <td>0.002211</td>\n",
       "      <td>365.37</td>\n",
       "      <td>367.8600</td>\n",
       "      <td>364.43</td>\n",
       "      <td>366.7200</td>\n",
       "      <td>47851654</td>\n",
       "      <td>-0.000463</td>\n",
       "    </tr>\n",
       "    <tr>\n",
       "      <th>2020-12-11 00:00:00-05:00</th>\n",
       "      <td>118.01</td>\n",
       "      <td>118.0900</td>\n",
       "      <td>117.9500</td>\n",
       "      <td>118.03</td>\n",
       "      <td>5537449</td>\n",
       "      <td>0.001272</td>\n",
       "      <td>364.90</td>\n",
       "      <td>366.7402</td>\n",
       "      <td>363.26</td>\n",
       "      <td>366.2800</td>\n",
       "      <td>47917103</td>\n",
       "      <td>-0.001200</td>\n",
       "    </tr>\n",
       "  </tbody>\n",
       "</table>\n",
       "</div>"
      ],
      "text/plain": [
       "                              AGG                                       \\\n",
       "                             open      high       low   close   volume   \n",
       "time                                                                     \n",
       "2020-12-07 00:00:00-05:00  117.76  117.8262  117.6900  117.75  4689469   \n",
       "2020-12-08 00:00:00-05:00  117.88  117.9597  117.7500  117.77  3587353   \n",
       "2020-12-09 00:00:00-05:00  117.73  117.7800  117.5172  117.62  4720359   \n",
       "2020-12-10 00:00:00-05:00  117.74  117.9300  117.6900  117.88  4694024   \n",
       "2020-12-11 00:00:00-05:00  118.01  118.0900  117.9500  118.03  5537449   \n",
       "\n",
       "                                           SPY                              \\\n",
       "                          daily_return    open      high     low     close   \n",
       "time                                                                         \n",
       "2020-12-07 00:00:00-05:00          NaN  369.02  369.6200  367.72  369.1200   \n",
       "2020-12-08 00:00:00-05:00     0.000170  367.72  370.7800  367.67  370.1599   \n",
       "2020-12-09 00:00:00-05:00    -0.001274  370.88  371.0500  365.95  366.8900   \n",
       "2020-12-10 00:00:00-05:00     0.002211  365.37  367.8600  364.43  366.7200   \n",
       "2020-12-11 00:00:00-05:00     0.001272  364.90  366.7402  363.26  366.2800   \n",
       "\n",
       "                                                  \n",
       "                             volume daily_return  \n",
       "time                                              \n",
       "2020-12-07 00:00:00-05:00  40456544          NaN  \n",
       "2020-12-08 00:00:00-05:00  32702217     0.002817  \n",
       "2020-12-09 00:00:00-05:00  60700254    -0.008834  \n",
       "2020-12-10 00:00:00-05:00  47851654    -0.000463  \n",
       "2020-12-11 00:00:00-05:00  47917103    -0.001200  "
      ]
     },
     "execution_count": 84,
     "metadata": {},
     "output_type": "execute_result"
    }
   ],
   "source": [
    "simulated_10_years = MCSimulation(\n",
    "    portfolio_data = stock_price_df,\n",
    "    weights = [.80,.20],\n",
    "    num_simulation = 500,\n",
    "    num_trading_days = 252*10\n",
    ")\n",
    "\n",
    "# Review the simulation input data\n",
    "simulated_10_years.portfolio_data.head()\n"
   ]
  },
  {
   "cell_type": "code",
   "execution_count": 85,
   "metadata": {},
   "outputs": [],
   "source": [
    "# Run the Monte Carlo simulation to forecast 10 years cumulative returns\n",
    "# YOUR CODE HERE\n"
   ]
  },
  {
   "cell_type": "code",
   "execution_count": 86,
   "metadata": {},
   "outputs": [
    {
     "name": "stdout",
     "output_type": "stream",
     "text": [
      "Running Monte Carlo simulation number 0.\n",
      "Running Monte Carlo simulation number 10.\n",
      "Running Monte Carlo simulation number 20.\n",
      "Running Monte Carlo simulation number 30.\n",
      "Running Monte Carlo simulation number 40.\n",
      "Running Monte Carlo simulation number 50.\n",
      "Running Monte Carlo simulation number 60.\n",
      "Running Monte Carlo simulation number 70.\n",
      "Running Monte Carlo simulation number 80.\n",
      "Running Monte Carlo simulation number 90.\n",
      "Running Monte Carlo simulation number 100.\n",
      "Running Monte Carlo simulation number 110.\n",
      "Running Monte Carlo simulation number 120.\n",
      "Running Monte Carlo simulation number 130.\n",
      "Running Monte Carlo simulation number 140.\n",
      "Running Monte Carlo simulation number 150.\n",
      "Running Monte Carlo simulation number 160.\n",
      "Running Monte Carlo simulation number 170.\n",
      "Running Monte Carlo simulation number 180.\n",
      "Running Monte Carlo simulation number 190.\n",
      "Running Monte Carlo simulation number 200.\n",
      "Running Monte Carlo simulation number 210.\n",
      "Running Monte Carlo simulation number 220.\n",
      "Running Monte Carlo simulation number 230.\n",
      "Running Monte Carlo simulation number 240.\n",
      "Running Monte Carlo simulation number 250.\n",
      "Running Monte Carlo simulation number 260.\n",
      "Running Monte Carlo simulation number 270.\n",
      "Running Monte Carlo simulation number 280.\n",
      "Running Monte Carlo simulation number 290.\n",
      "Running Monte Carlo simulation number 300.\n",
      "Running Monte Carlo simulation number 310.\n",
      "Running Monte Carlo simulation number 320.\n",
      "Running Monte Carlo simulation number 330.\n",
      "Running Monte Carlo simulation number 340.\n",
      "Running Monte Carlo simulation number 350.\n",
      "Running Monte Carlo simulation number 360.\n",
      "Running Monte Carlo simulation number 370.\n",
      "Running Monte Carlo simulation number 380.\n",
      "Running Monte Carlo simulation number 390.\n",
      "Running Monte Carlo simulation number 400.\n",
      "Running Monte Carlo simulation number 410.\n",
      "Running Monte Carlo simulation number 420.\n",
      "Running Monte Carlo simulation number 430.\n",
      "Running Monte Carlo simulation number 440.\n",
      "Running Monte Carlo simulation number 450.\n",
      "Running Monte Carlo simulation number 460.\n",
      "Running Monte Carlo simulation number 470.\n",
      "Running Monte Carlo simulation number 480.\n",
      "Running Monte Carlo simulation number 490.\n"
     ]
    },
    {
     "data": {
      "text/html": [
       "<div>\n",
       "<style scoped>\n",
       "    .dataframe tbody tr th:only-of-type {\n",
       "        vertical-align: middle;\n",
       "    }\n",
       "\n",
       "    .dataframe tbody tr th {\n",
       "        vertical-align: top;\n",
       "    }\n",
       "\n",
       "    .dataframe thead th {\n",
       "        text-align: right;\n",
       "    }\n",
       "</style>\n",
       "<table border=\"1\" class=\"dataframe\">\n",
       "  <thead>\n",
       "    <tr style=\"text-align: right;\">\n",
       "      <th></th>\n",
       "      <th>0</th>\n",
       "      <th>1</th>\n",
       "      <th>2</th>\n",
       "      <th>3</th>\n",
       "      <th>4</th>\n",
       "      <th>5</th>\n",
       "      <th>6</th>\n",
       "      <th>7</th>\n",
       "      <th>8</th>\n",
       "      <th>9</th>\n",
       "      <th>...</th>\n",
       "      <th>490</th>\n",
       "      <th>491</th>\n",
       "      <th>492</th>\n",
       "      <th>493</th>\n",
       "      <th>494</th>\n",
       "      <th>495</th>\n",
       "      <th>496</th>\n",
       "      <th>497</th>\n",
       "      <th>498</th>\n",
       "      <th>499</th>\n",
       "    </tr>\n",
       "  </thead>\n",
       "  <tbody>\n",
       "    <tr>\n",
       "      <th>0</th>\n",
       "      <td>1.000000</td>\n",
       "      <td>1.000000</td>\n",
       "      <td>1.000000</td>\n",
       "      <td>1.000000</td>\n",
       "      <td>1.000000</td>\n",
       "      <td>1.000000</td>\n",
       "      <td>1.000000</td>\n",
       "      <td>1.000000</td>\n",
       "      <td>1.000000</td>\n",
       "      <td>1.000000</td>\n",
       "      <td>...</td>\n",
       "      <td>1.000000</td>\n",
       "      <td>1.000000</td>\n",
       "      <td>1.000000</td>\n",
       "      <td>1.000000</td>\n",
       "      <td>1.000000</td>\n",
       "      <td>1.000000</td>\n",
       "      <td>1.000000</td>\n",
       "      <td>1.000000</td>\n",
       "      <td>1.000000</td>\n",
       "      <td>1.000000</td>\n",
       "    </tr>\n",
       "    <tr>\n",
       "      <th>1</th>\n",
       "      <td>1.001715</td>\n",
       "      <td>1.000557</td>\n",
       "      <td>1.000407</td>\n",
       "      <td>0.997103</td>\n",
       "      <td>1.002192</td>\n",
       "      <td>1.002349</td>\n",
       "      <td>1.000547</td>\n",
       "      <td>1.001115</td>\n",
       "      <td>0.998447</td>\n",
       "      <td>1.000005</td>\n",
       "      <td>...</td>\n",
       "      <td>0.999447</td>\n",
       "      <td>0.999477</td>\n",
       "      <td>0.999029</td>\n",
       "      <td>0.997209</td>\n",
       "      <td>0.998383</td>\n",
       "      <td>1.002252</td>\n",
       "      <td>0.996821</td>\n",
       "      <td>1.004858</td>\n",
       "      <td>1.003041</td>\n",
       "      <td>0.998457</td>\n",
       "    </tr>\n",
       "    <tr>\n",
       "      <th>2</th>\n",
       "      <td>1.004766</td>\n",
       "      <td>0.998687</td>\n",
       "      <td>0.998776</td>\n",
       "      <td>0.991280</td>\n",
       "      <td>1.000528</td>\n",
       "      <td>1.001632</td>\n",
       "      <td>1.003086</td>\n",
       "      <td>1.000149</td>\n",
       "      <td>0.999357</td>\n",
       "      <td>0.999686</td>\n",
       "      <td>...</td>\n",
       "      <td>0.997618</td>\n",
       "      <td>0.996617</td>\n",
       "      <td>0.998035</td>\n",
       "      <td>0.994181</td>\n",
       "      <td>0.995810</td>\n",
       "      <td>1.005106</td>\n",
       "      <td>0.995242</td>\n",
       "      <td>1.006713</td>\n",
       "      <td>1.004066</td>\n",
       "      <td>0.994510</td>\n",
       "    </tr>\n",
       "    <tr>\n",
       "      <th>3</th>\n",
       "      <td>1.006497</td>\n",
       "      <td>0.999245</td>\n",
       "      <td>0.995246</td>\n",
       "      <td>0.988713</td>\n",
       "      <td>1.002480</td>\n",
       "      <td>1.004406</td>\n",
       "      <td>1.002337</td>\n",
       "      <td>1.000890</td>\n",
       "      <td>0.998983</td>\n",
       "      <td>1.003292</td>\n",
       "      <td>...</td>\n",
       "      <td>0.998426</td>\n",
       "      <td>0.995713</td>\n",
       "      <td>0.997021</td>\n",
       "      <td>0.992020</td>\n",
       "      <td>0.993323</td>\n",
       "      <td>1.004476</td>\n",
       "      <td>0.996242</td>\n",
       "      <td>1.002469</td>\n",
       "      <td>1.003430</td>\n",
       "      <td>0.997540</td>\n",
       "    </tr>\n",
       "    <tr>\n",
       "      <th>4</th>\n",
       "      <td>1.009456</td>\n",
       "      <td>1.001494</td>\n",
       "      <td>0.997353</td>\n",
       "      <td>0.986333</td>\n",
       "      <td>1.003671</td>\n",
       "      <td>1.006869</td>\n",
       "      <td>1.004468</td>\n",
       "      <td>0.999688</td>\n",
       "      <td>1.003294</td>\n",
       "      <td>1.002528</td>\n",
       "      <td>...</td>\n",
       "      <td>0.996606</td>\n",
       "      <td>1.000831</td>\n",
       "      <td>0.997351</td>\n",
       "      <td>0.995289</td>\n",
       "      <td>0.991516</td>\n",
       "      <td>1.004519</td>\n",
       "      <td>0.991615</td>\n",
       "      <td>0.998073</td>\n",
       "      <td>1.000397</td>\n",
       "      <td>0.998177</td>\n",
       "    </tr>\n",
       "    <tr>\n",
       "      <th>...</th>\n",
       "      <td>...</td>\n",
       "      <td>...</td>\n",
       "      <td>...</td>\n",
       "      <td>...</td>\n",
       "      <td>...</td>\n",
       "      <td>...</td>\n",
       "      <td>...</td>\n",
       "      <td>...</td>\n",
       "      <td>...</td>\n",
       "      <td>...</td>\n",
       "      <td>...</td>\n",
       "      <td>...</td>\n",
       "      <td>...</td>\n",
       "      <td>...</td>\n",
       "      <td>...</td>\n",
       "      <td>...</td>\n",
       "      <td>...</td>\n",
       "      <td>...</td>\n",
       "      <td>...</td>\n",
       "      <td>...</td>\n",
       "      <td>...</td>\n",
       "    </tr>\n",
       "    <tr>\n",
       "      <th>2516</th>\n",
       "      <td>1.229437</td>\n",
       "      <td>1.038150</td>\n",
       "      <td>1.217801</td>\n",
       "      <td>1.107876</td>\n",
       "      <td>0.765726</td>\n",
       "      <td>1.132050</td>\n",
       "      <td>1.231065</td>\n",
       "      <td>1.009082</td>\n",
       "      <td>1.265438</td>\n",
       "      <td>1.051152</td>\n",
       "      <td>...</td>\n",
       "      <td>0.982921</td>\n",
       "      <td>0.986745</td>\n",
       "      <td>1.096148</td>\n",
       "      <td>1.102942</td>\n",
       "      <td>1.114733</td>\n",
       "      <td>1.088769</td>\n",
       "      <td>1.024996</td>\n",
       "      <td>0.993557</td>\n",
       "      <td>0.888954</td>\n",
       "      <td>1.001019</td>\n",
       "    </tr>\n",
       "    <tr>\n",
       "      <th>2517</th>\n",
       "      <td>1.232748</td>\n",
       "      <td>1.041607</td>\n",
       "      <td>1.217169</td>\n",
       "      <td>1.106664</td>\n",
       "      <td>0.763602</td>\n",
       "      <td>1.130203</td>\n",
       "      <td>1.228708</td>\n",
       "      <td>1.008865</td>\n",
       "      <td>1.265185</td>\n",
       "      <td>1.049551</td>\n",
       "      <td>...</td>\n",
       "      <td>0.983344</td>\n",
       "      <td>0.983112</td>\n",
       "      <td>1.095563</td>\n",
       "      <td>1.103161</td>\n",
       "      <td>1.114964</td>\n",
       "      <td>1.087017</td>\n",
       "      <td>1.028636</td>\n",
       "      <td>0.998131</td>\n",
       "      <td>0.886817</td>\n",
       "      <td>1.001441</td>\n",
       "    </tr>\n",
       "    <tr>\n",
       "      <th>2518</th>\n",
       "      <td>1.232632</td>\n",
       "      <td>1.041206</td>\n",
       "      <td>1.214709</td>\n",
       "      <td>1.107683</td>\n",
       "      <td>0.765030</td>\n",
       "      <td>1.131215</td>\n",
       "      <td>1.226642</td>\n",
       "      <td>1.011031</td>\n",
       "      <td>1.264316</td>\n",
       "      <td>1.049729</td>\n",
       "      <td>...</td>\n",
       "      <td>0.986397</td>\n",
       "      <td>0.985005</td>\n",
       "      <td>1.096157</td>\n",
       "      <td>1.103107</td>\n",
       "      <td>1.117818</td>\n",
       "      <td>1.091810</td>\n",
       "      <td>1.027782</td>\n",
       "      <td>0.996052</td>\n",
       "      <td>0.887255</td>\n",
       "      <td>1.003539</td>\n",
       "    </tr>\n",
       "    <tr>\n",
       "      <th>2519</th>\n",
       "      <td>1.230783</td>\n",
       "      <td>1.047253</td>\n",
       "      <td>1.209478</td>\n",
       "      <td>1.111006</td>\n",
       "      <td>0.765797</td>\n",
       "      <td>1.131483</td>\n",
       "      <td>1.224705</td>\n",
       "      <td>1.010256</td>\n",
       "      <td>1.258101</td>\n",
       "      <td>1.051627</td>\n",
       "      <td>...</td>\n",
       "      <td>0.984694</td>\n",
       "      <td>0.982857</td>\n",
       "      <td>1.098375</td>\n",
       "      <td>1.106372</td>\n",
       "      <td>1.123658</td>\n",
       "      <td>1.094665</td>\n",
       "      <td>1.030285</td>\n",
       "      <td>0.993221</td>\n",
       "      <td>0.885854</td>\n",
       "      <td>1.003743</td>\n",
       "    </tr>\n",
       "    <tr>\n",
       "      <th>2520</th>\n",
       "      <td>1.226447</td>\n",
       "      <td>1.049092</td>\n",
       "      <td>1.214625</td>\n",
       "      <td>1.111707</td>\n",
       "      <td>0.764310</td>\n",
       "      <td>1.130791</td>\n",
       "      <td>1.227986</td>\n",
       "      <td>1.007710</td>\n",
       "      <td>1.258232</td>\n",
       "      <td>1.049360</td>\n",
       "      <td>...</td>\n",
       "      <td>0.983641</td>\n",
       "      <td>0.984788</td>\n",
       "      <td>1.101435</td>\n",
       "      <td>1.106954</td>\n",
       "      <td>1.128091</td>\n",
       "      <td>1.093808</td>\n",
       "      <td>1.031081</td>\n",
       "      <td>0.997347</td>\n",
       "      <td>0.885982</td>\n",
       "      <td>1.006189</td>\n",
       "    </tr>\n",
       "  </tbody>\n",
       "</table>\n",
       "<p>2521 rows × 500 columns</p>\n",
       "</div>"
      ],
      "text/plain": [
       "           0         1         2         3         4         5         6    \\\n",
       "0     1.000000  1.000000  1.000000  1.000000  1.000000  1.000000  1.000000   \n",
       "1     1.001715  1.000557  1.000407  0.997103  1.002192  1.002349  1.000547   \n",
       "2     1.004766  0.998687  0.998776  0.991280  1.000528  1.001632  1.003086   \n",
       "3     1.006497  0.999245  0.995246  0.988713  1.002480  1.004406  1.002337   \n",
       "4     1.009456  1.001494  0.997353  0.986333  1.003671  1.006869  1.004468   \n",
       "...        ...       ...       ...       ...       ...       ...       ...   \n",
       "2516  1.229437  1.038150  1.217801  1.107876  0.765726  1.132050  1.231065   \n",
       "2517  1.232748  1.041607  1.217169  1.106664  0.763602  1.130203  1.228708   \n",
       "2518  1.232632  1.041206  1.214709  1.107683  0.765030  1.131215  1.226642   \n",
       "2519  1.230783  1.047253  1.209478  1.111006  0.765797  1.131483  1.224705   \n",
       "2520  1.226447  1.049092  1.214625  1.111707  0.764310  1.130791  1.227986   \n",
       "\n",
       "           7         8         9    ...       490       491       492  \\\n",
       "0     1.000000  1.000000  1.000000  ...  1.000000  1.000000  1.000000   \n",
       "1     1.001115  0.998447  1.000005  ...  0.999447  0.999477  0.999029   \n",
       "2     1.000149  0.999357  0.999686  ...  0.997618  0.996617  0.998035   \n",
       "3     1.000890  0.998983  1.003292  ...  0.998426  0.995713  0.997021   \n",
       "4     0.999688  1.003294  1.002528  ...  0.996606  1.000831  0.997351   \n",
       "...        ...       ...       ...  ...       ...       ...       ...   \n",
       "2516  1.009082  1.265438  1.051152  ...  0.982921  0.986745  1.096148   \n",
       "2517  1.008865  1.265185  1.049551  ...  0.983344  0.983112  1.095563   \n",
       "2518  1.011031  1.264316  1.049729  ...  0.986397  0.985005  1.096157   \n",
       "2519  1.010256  1.258101  1.051627  ...  0.984694  0.982857  1.098375   \n",
       "2520  1.007710  1.258232  1.049360  ...  0.983641  0.984788  1.101435   \n",
       "\n",
       "           493       494       495       496       497       498       499  \n",
       "0     1.000000  1.000000  1.000000  1.000000  1.000000  1.000000  1.000000  \n",
       "1     0.997209  0.998383  1.002252  0.996821  1.004858  1.003041  0.998457  \n",
       "2     0.994181  0.995810  1.005106  0.995242  1.006713  1.004066  0.994510  \n",
       "3     0.992020  0.993323  1.004476  0.996242  1.002469  1.003430  0.997540  \n",
       "4     0.995289  0.991516  1.004519  0.991615  0.998073  1.000397  0.998177  \n",
       "...        ...       ...       ...       ...       ...       ...       ...  \n",
       "2516  1.102942  1.114733  1.088769  1.024996  0.993557  0.888954  1.001019  \n",
       "2517  1.103161  1.114964  1.087017  1.028636  0.998131  0.886817  1.001441  \n",
       "2518  1.103107  1.117818  1.091810  1.027782  0.996052  0.887255  1.003539  \n",
       "2519  1.106372  1.123658  1.094665  1.030285  0.993221  0.885854  1.003743  \n",
       "2520  1.106954  1.128091  1.093808  1.031081  0.997347  0.885982  1.006189  \n",
       "\n",
       "[2521 rows x 500 columns]"
      ]
     },
     "execution_count": 86,
     "metadata": {},
     "output_type": "execute_result"
    }
   ],
   "source": [
    "simulated_10_years.calc_cumulative_return()\n"
   ]
  },
  {
   "cell_type": "code",
   "execution_count": 87,
   "metadata": {},
   "outputs": [
    {
     "data": {
      "image/png": "[encoded data removed]",
      "text/plain": [
       "<Figure size 432x288 with 1 Axes>"
      ]
     },
     "metadata": {
      "needs_background": "light"
     },
     "output_type": "display_data"
    }
   ],
   "source": [
    "return_plot = simulated_10_years.plot_simulation()\n",
    "return_plot.get_figure().savefig(\"simulated_return_plot_10years.png\")\n"
   ]
  },
  {
   "cell_type": "code",
   "execution_count": 88,
   "metadata": {},
   "outputs": [
    {
     "data": {
      "image/png": "[encoded data removed]",
      "text/plain": [
       "<Figure size 432x288 with 1 Axes>"
      ]
     },
     "metadata": {
      "needs_background": "light"
     },
     "output_type": "display_data"
    }
   ],
   "source": [
    "return_distribution = simulated_10_years.plot_distribution()\n",
    "\n",
    "# Save the plot for future use\n",
    "return_distribution.get_figure().savefig('simulated_return_distrubtion_10years.png')"
   ]
  },
  {
   "cell_type": "markdown",
   "metadata": {},
   "source": [
    "### Answer the following questions:"
   ]
  },
  {
   "cell_type": "markdown",
   "metadata": {},
   "source": [
    "#### Question: Using the current value of only the stock and bond portion of the member's portfolio and the summary statistics that you generated from the new Monte Carlo simulation, what are the lower and upper bounds for the expected value of the portfolio (with the new weights) with a 95% confidence interval?"
   ]
  },
  {
   "cell_type": "code",
   "execution_count": 89,
   "metadata": {},
   "outputs": [
    {
     "name": "stdout",
     "output_type": "stream",
     "text": [
      "count           500.000000\n",
      "mean              1.082944\n",
      "std               0.132315\n",
      "min               0.735861\n",
      "25%               0.993346\n",
      "50%               1.075724\n",
      "75%               1.175029\n",
      "max               1.452729\n",
      "95% CI Lower      0.843246\n",
      "95% CI Upper      1.355678\n",
      "Name: 2520, dtype: float64\n"
     ]
    }
   ],
   "source": [
    "\n",
    "\n",
    "summary_table_10_years = simulated_10_years.summarize_cumulative_return()\n",
    "\n",
    "print(summary_table_10_years)\n"
   ]
  },
  {
   "cell_type": "code",
   "execution_count": 96,
   "metadata": {},
   "outputs": [
    {
     "name": "stdout",
     "output_type": "stream",
     "text": [
      "total_stocks_bonds =  64184.9\n",
      "lower value = 54123.63488509148\n",
      "upper Value = 87014.0664720094\n"
     ]
    }
   ],
   "source": [
    "\n",
    "# Use the lower and upper `95%` confidence intervals to calculate the range of the possible outcomes for the current stock/bond portfolio\n",
    "ci_lower_ten_cumulative_return = summary_table_10_years[8] * total_stocks_bonds\n",
    "ci_upper_ten_cumulative_return = summary_table_10_years[9] * total_stocks_bonds\n",
    "print(\"total_stocks_bonds = \", total_stocks_bonds)\n",
    "print(\"lower value =\", ci_lower_ten_cumulative_return )\n",
    "print(\"upper Value =\", ci_upper_ten_cumulative_return)"
   ]
  },
  {
   "cell_type": "markdown",
   "metadata": {},
   "source": [
    "#### Question: Will weighting the portfolio more heavily to stocks allow the credit union members to retire after only 10 years?"
   ]
  },
  {
   "cell_type": "raw",
   "metadata": {},
   "source": [
    "**Answer** # It depends on the risk-to-reward management. If heavily portfolio to stock member have a high possibility expose to loss also. "
   ]
  },
  {
   "cell_type": "code",
   "execution_count": null,
   "metadata": {},
   "outputs": [],
   "source": []
  },
  {
   "cell_type": "code",
   "execution_count": null,
   "metadata": {},
   "outputs": [],
   "source": []
  },
  {
   "cell_type": "code",
   "execution_count": null,
   "metadata": {},
   "outputs": [],
   "source": []
  }
 ],
 "metadata": {
  "kernelspec": {
   "display_name": "Python 3",
   "language": "python",
   "name": "python3"
  },
  "language_info": {
   "codemirror_mode": {
    "name": "ipython",
    "version": 3
   },
   "file_extension": ".py",
   "mimetype": "text/x-python",
   "name": "python",
   "nbconvert_exporter": "python",
   "pygments_lexer": "ipython3",
   "version": "3.8.5"
  }
 },
 "nbformat": 4,
 "nbformat_minor": 4
}
